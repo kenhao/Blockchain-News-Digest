{
  "cells": [
    {
      "cell_type": "markdown",
      "metadata": {
        "id": "3gBQvHE7W1RW"
      },
      "source": [
        "# Scrape Blockchain News"
      ]
    },
    {
      "cell_type": "code",
      "execution_count": 1,
      "metadata": {
        "id": "BY-bsj5YXCSI"
      },
      "outputs": [],
      "source": [
        "import requests\n",
        "from bs4 import BeautifulSoup\n",
        "import re\n",
        "import json"
      ]
    },
    {
      "cell_type": "code",
      "execution_count": 2,
      "metadata": {
        "id": "3B91V5LlXE7w"
      },
      "outputs": [],
      "source": [
        "url = \"https://abmedia.io/blog\""
      ]
    },
    {
      "cell_type": "code",
      "execution_count": 3,
      "metadata": {
        "id": "F6dBK23PXWAT"
      },
      "outputs": [],
      "source": [
        "# scrape all article url\n",
        "response = requests.get(url)\n",
        "html_content = response.text\n",
        "soup = BeautifulSoup(html_content, 'html.parser')\n",
        "\n",
        "hrefs = []\n",
        "\n",
        "loop_post = soup.find('div', class_=\"loop-post\")\n",
        "titles = loop_post.find_all('h3', class_='title')\n",
        "\n",
        "for title in titles:\n",
        "    # scrape href in <h3><a>\n",
        "    a_tag = title.find('a')\n",
        "    if a_tag and a_tag.has_attr('href'):\n",
        "        hrefs.append(a_tag['href'])"
      ]
    },
    {
      "cell_type": "code",
      "execution_count": 4,
      "metadata": {
        "colab": {
          "base_uri": "https://localhost:8080/"
        },
        "id": "6_3dx8mGYdKv",
        "outputId": "3594d31a-2145-485c-8020-fec3a14d59cf"
      },
      "outputs": [
        {
          "data": {
            "text/plain": [
              "['https://abmedia.io/crypto-market-crashs-0319',\n",
              " 'https://abmedia.io/aethir-decentralized-ai-node-sale',\n",
              " 'https://abmedia.io/utah-judge-denies-secs-motion-to-dismiss-debt-box-case',\n",
              " 'https://abmedia.io/slowmist-introduces-various-daas',\n",
              " 'https://abmedia.io/how-to-explore-ethereum-and-l2-with-okx-web3-wallet',\n",
              " 'https://abmedia.io/gpif-to-seek-information-on-business-diversification-including-btc',\n",
              " 'https://abmedia.io/solana-meme-coin-presale-boom',\n",
              " 'https://abmedia.io/net-outflow-of-154m-on-18-march-for-bitcoin-etfs',\n",
              " 'https://abmedia.io/okx-delists-usdt-pairs-tether-europe',\n",
              " 'https://abmedia.io/boj-ends-negative-rate-policy',\n",
              " 'https://abmedia.io/bitcoin-correction-may-continue',\n",
              " 'https://abmedia.io/nvidia-gtc-jensen-huang-bring-ai-robot',\n",
              " 'https://abmedia.io/fidelity-eth-etf-amendent',\n",
              " 'https://abmedia.io/google-is-collaborating-with-apple-to-launch-geminiphone',\n",
              " 'https://abmedia.io/bitcoin-just-hit-9k-on-bitmex']"
            ]
          },
          "execution_count": 4,
          "metadata": {},
          "output_type": "execute_result"
        }
      ],
      "source": [
        "hrefs"
      ]
    },
    {
      "cell_type": "code",
      "execution_count": 5,
      "metadata": {
        "id": "rZuFt8qd0IAd"
      },
      "outputs": [],
      "source": [
        "# Use slicing to limit processing to only the first ten articles\n",
        "hrefs_limit = hrefs[:]"
      ]
    },
    {
      "cell_type": "code",
      "execution_count": 6,
      "metadata": {
        "id": "9A66UWEzhHYR"
      },
      "outputs": [],
      "source": [
        "# get news article in herfs\n",
        "\n",
        "articles_info = {}\n",
        "\n",
        "for url in hrefs_limit:\n",
        "    try:\n",
        "        response = requests.get(url)\n",
        "        if response.status_code == 200:\n",
        "            soup = BeautifulSoup(response.content, 'html.parser')\n",
        "            article = soup.find('article')\n",
        "            # news ID\n",
        "            article_id = article.get('id')\n",
        "            # news title\n",
        "            title = article.find('h1', class_='title').text.strip()\n",
        "            # news category in <div class=\"cat\">\n",
        "            categories_div = article.find('div', class_='cat')\n",
        "            categories = '、'.join([a.text for a in categories_div.find_all('a')])\n",
        "            # news content\n",
        "            content = article.find('div',class_='desc').text.strip()\n",
        "            cleaned_content = re.sub(r'[\\n\\u200b]', '', content)\n",
        "\n",
        "            articles_info[article_id] = {\n",
        "                'url': url,\n",
        "                'categories': categories,\n",
        "                'title': title,\n",
        "                'content': cleaned_content\n",
        "            }\n",
        "    except Exception as e:\n",
        "        print(f\"Error processing {url}: {e}\")\n"
      ]
    },
    {
      "cell_type": "code",
      "execution_count": 7,
      "metadata": {
        "colab": {
          "base_uri": "https://localhost:8080/"
        },
        "id": "NWwzS9zmwhx-",
        "outputId": "22b5d373-7559-4f39-e372-2cb843af241d"
      },
      "outputs": [
        {
          "data": {
            "text/plain": [
              "{'post-95395': {'url': 'https://abmedia.io/crypto-market-crashs-0319',\n",
              "  'categories': '交易市場',\n",
              "  'title': '加密市場清算6億美元，比特幣跌破63K，以太幣跌幅已達兩成',\n",
              "  'content': '比特幣與以太幣分別跌至 63,000 美元、3,200 美元水平，SOL 在短暫觸及 200 美元後也跌至 173 美元水平，而美股微策略 (MSTR) 在 3 月 19 日開盤前已下跌 -9.16%。內容目錄Toggle比特幣跌破 63K以太幣跌破 3.3 K加密市場清算 6.3 億美元微策略盤前下跌近 10%迷因幣領跌、SOL 跌至 170比特幣跌破 63K比特幣在 3 月 19 日最低跌至 62,721 美元，24 小時跌幅 -7.4%。自比特幣 14 日寫下歷史新高 73,787 美元後，跌幅已達 -13.39%。廣告 - 內文未完請往下捲動BTC／USDT 4H｜OKX以太幣跌破 3.3 K以太幣跌至 3,205 美元， 24 小時跌幅 -9.28%，自以太幣在 3 月 12 日寫下年內高點 4,092 美元後，跌幅已達兩成 (-20.33%)。ETH／USDT 4H｜OKX加密市場清算 6.3 億美元CoinGlass 數據顯示，加密市場 24 小時共清算 6.3 億美元，多頭佔 5.21 億美元，空頭為 1.08 億美元。實際上芝商所 (CME) 在過去幾個月以來，未平倉合約 (OI) 皆遠高於幣安 (168K BTC vs. 116 BTC)。因此與加密貨幣價格相關的清算肯定高於 6.3 億美元，CoinGlass 的清算數據並未列入芝商所。交易所清算數據微策略盤前下跌近 10%微策略 (MSTR) 在 3 月 16 日觸及 1,816 美元，刷新 2021 年牛市的前高，但目前已跌至 1,500 美元 (-17.4%)。且 3 月 19 日美股開盤前，MSTR 盤前已下跌 -9.16%。迷因幣領跌、SOL 跌至 170據此前報導，除了 BONK (-21.44%)、FLOKI (-18.56%) 等迷因幣在百大市值中跌幅最深外，SOL 也有 16.5% 跌幅。在短暫站上 200 美元後，SOL 已跌至 173 美元水平。(比特幣跌破66K、以太幣跌破3.5K，迷因幣BOME、SLERF單日跌五成)BTCETH以太幣比特幣 衍伸閱讀10X Research：比特幣跌至63K後繼續漲，競爭幣、迷因幣短期已見頂比特幣一度跌至6.5萬美元，現貨ETF淨流入連兩日低迷'},\n",
              " 'post-95385': {'url': 'https://abmedia.io/aethir-decentralized-ai-node-sale',\n",
              "  'categories': '贊助文章',\n",
              "  'title': 'Aethir 點燃去中心化雲端的未來：開始銷售 AI 節點',\n",
              "  'content': '去中心化 GPU 雲端基礎設施 Aethir 即將開啟節點銷售，為企業級 AI 和遊戲服務的交付方式帶來變革。Aethir 專注於作為服務的 GPU，利用 NVIDIA H100 晶片的能力，提供了一個強大的平台，用於 AI、機器學習和雲端遊戲需求。擁有遊戲和電信巨頭等客戶群的 Aethir，其創新方法結合了技術實力與操作靈活性，希望為雲端計算動態帶來重大轉變。內容目錄Toggle$ATH 代幣提供 DePIN 代幣經濟成為去中心化的門戶：為什麼運行 Aethir 節點？節點銷售詳情$ATH 代幣提供 DePIN 代幣經濟Aethir 希望透過 $ATH 代幣獎勵那些為維護和保護去中心化雲端基礎設施的人來驅動其網路。透過民主化參與，Aethir 確保每個人都有平等的機會參與、驗證並從網路中受益，特別是通過識別和懲罰惡意行為者。(探索去中心化網路的新時代：DePIN 概念深度分析，DePIN 是什麼？)廣告 - 內文未完請往下捲動成為去中心化的門戶：為什麼運行 Aethir 節點？加入 Aethir 成為節點運營商，不僅僅是為了賺取獎勵；首批推出的節點類型 – 檢查節點，可以再驗證網路運營完整性方面發揮關鍵作用。這證明了 Aethir 致力於一個由社群驅動、去中心化的精神，從檢查節點在驗證 Aethir 生態系統內服務的關鍵作用開始。節點銷售詳情銷售數量：100,000 個節點，採用分層定價。銷售平台：透過 Arbitrum 的公開銷售直接購買。鎖倉期：節點在銷售後一年可轉讓，獎勵按照託管計畫發放。無購買上限：可購買任意多的節點，但對早期支持者和社群成員有特別分配。節點銷售期間：2024 年 3 月 20 日，上午 10 點 UTC網路啟動：2024 年第二季度AethirGPUNVIDIA雲端 衍伸閱讀NVIDIA未正確揭露「加密挖礦」對公司收入影響，遭SEC罰款550萬美元以太坊礦池貢獻大量算力，協助分析武漢肺炎病毒及治療方法'},\n",
              " 'post-95351': {'url': 'https://abmedia.io/utah-judge-denies-secs-motion-to-dismiss-debt-box-case',\n",
              "  'categories': '政策監理',\n",
              "  'title': '為了執法不擇手段？SEC訴訟提不實證據遭法官制裁：蓄意誤導、嚴重濫權',\n",
              "  'content': '聯邦法官於昨日 (18) 裁定，美國證交會 (SEC) 在與加密公司 DEBT Box 的訴訟中提出不實證據，以求對其實施臨時限制令；強調該行為已構成「嚴重濫權」，必須為 DEBT Box 支付所有法律費用。內容目錄Toggle法官指 SEC 嚴重濫權SEC 不實陳述遭打臉SEC 坦承疏失，提終止案件仍遭否決ZK 顧問公司創辦人批：SEC 需要改革SEC 遭指越權並非首次法官指 SEC 嚴重濫權猶他州地方法院法官 Robert Shelby 在週一針對 SEC 訴 DEBT Box 案發布了一項命令，稱 SEC 故意向法院提供不實證據，以確保能對 Debt Box 實施包括資產凍結及接管公司的臨時限制令 (TRO)：SEC 所謂的「關鍵證據」缺乏任何依據，並故意以虛構及誤導性的方式陳述。廣告 - 內文未完請往下捲動並補充，「委員會巧妙利用了其作為聯邦機構的特殊地位，嚴重濫用職權並損害了司法程序的公正性。」對此，Robert 裁定 SEC 律師在訴訟中採取「惡意行為」，命令其須支付 DEBT Box 所有的法律費用作為制裁。\"The Commission’s above-discussed conduct constitutes a gross abuse of the power entrusted to it by Congress and substantially undermined the integrity of these proceedings and the judicial process… The operation of the American judicial system rests on the fundamental… pic.twitter.com/eBYI8AhJSt— paulgrewal.eth (@iampaulgrewal) March 18, 2024SEC 不實陳述遭打臉據悉，SEC 於去年 8 月對 DEBT Box 提起訴訟，指控其利用虛構的「節點許可證」，向投資者們聲稱能夠從 11 種代幣的挖礦中獲得收益，詐騙至少 4,900 萬美元：我們指控 DEBT Box 及其負責人，在涉及未註冊證券發行的同時，也向投資者們撒謊，謊稱他們從事加密資產挖礦。如今，有關該指控的新聞稿已被刪除。(加密挖礦公司 Digital Licensing 遭 SEC 告，涉五千萬美元詐欺案)SEC 當時聲稱該公司已將資金匯往海外，並可能會逃離美國，要求法院准許對其實施臨時限制令。然而，Robert 在後續的審查中發現了 SEC 的虛假陳述，並指出該公司的資金流動一直都在美國內部。SEC 坦承疏失，提終止案件仍遭否決對此，SEC 在 12 月承認於法庭上發表了不準確的言論，未能達到法院對於坦率的期望，並於隔月提出無條件駁回該訴訟的動議，以求終止該案件。(SEC 申請臨時限制令用騙的？美國猶他法官抨擊 SEC 虛假陳述)然而，法官則在昨日駁回了該動議，批評 SEC 律師 Michael Welsh 持續透過改變說詞，來掩蓋其不當行為。ZK 顧問公司創辦人批：SEC 需要改革ZK 顧問公司創辦人 Austin Campbell 對此表示，該案的 SEC 員工應被解僱，而該機構需要進行改革。For those who were telling me I was being unfair to the @SECGov earlier, please read this entire document.The SEC lied in court, and doubled down when the judge noticed.Why should any American trust the SEC or believe they act in good faith after this? https://t.co/sT4yylrn6s— Austin Campbell (@CampbellJAustin) March 18, 2024SEC 遭指越權並非首次兩週前，美國多州官員也針對 SEC 與 Kraken 訴訟案，聯合提交了法庭之友意見書，強調 SEC 的執法行動正在損害消費者，並無限擴大了「投資合約」的定義：各州強烈反對 SEC 試圖將加密資產列為證券，此舉可能讓未來類似案件優先適用聯邦法律，然而特定州法才更能妥善保護消費者權益。並補充，「SEC 未經授權的權力擴張，將讓消費者面臨風險。」(SEC 與 Kraken 訴訟案引爭議，多州官員聯合指控 SEC 嚴重越權)DEBT BoxDigital LicensingSEC濫權越權 衍伸閱讀SEC申請臨時限制令用騙的？美國猶他法官抨擊SEC虛假陳述加密挖礦公司Digital Licensing遭SEC告，涉五千萬美元詐欺案'},\n",
              " 'post-94950': {'url': 'https://abmedia.io/slowmist-introduces-various-daas',\n",
              "  'categories': '資訊安全',\n",
              "  'title': '牛市加密詐騙猖狂怎麼防？慢霧簡介多項詐騙工具、釣魚路徑',\n",
              "  'content': '加密牛市不僅為投資者帶來造富效應，對於駭客而言也是豐收季節，近期鏈新聞臉書專頁的貼文，就有詐騙留言大幅增加的現象。資安機構慢霧特別整理各種不同的釣魚手法及詐騙過程，希望加密參與者能更好地防範資安問題。內容目錄ToggleDrainer-as-a-Service (DaaS) 是什麼？加密常見釣魚手法釣魚路徑、詐騙入局手段Drainer-as-a-Service (DaaS) 是什麼？慢霧創辦人余弦指出，DaaS 可以理解為針對加密產業的釣魚工具，知名工具包括：MSPinkAngelPussyVenomMedusaMonkeyInferno作惡者花錢買了上述 Drainers 工具，並結合成千上萬釣魚網站、行銷帳號、各類騙術、漏洞利用、滲透、垃圾廣告等，如洪水猛獸沖般湧進加密產業。廣告 - 內文未完請往下捲動[UPDATE] Crypto 钓鱼常见手法Drainer-as-a-Service (DaaS) 功能：注：DaaS 可以理解为针对 Crypto 行业的钓鱼工具，知名的如 Inferno/MS/Angel/Monkey/Venom/Pink/Pussy/Medusa 等这些 Crypto Drainers，牛鬼蛇神们购买这些 Drainers…— Cos(余弦)😶\\u200d🌫️ (@evilcos) January 19, 2024加密常見釣魚手法余弦列出多種釣魚工具背後的機制：原生簽名利用：eth_sign、personal_sign、eth_signTypedData_* 等，eth_sign 已被眾多錢包封阻。授權函數利用：Token/NFT 中的 approve/permitTX data 4byte 利用：Claim Rewards/Security Update授權簽名：用 Create2 預創建資金接收地址，繞過相關檢測比特幣銘文一鍵批量釣魚，UTXO 機制各 EVM 鏈/Solana/Tron 等切換釣魚釣魚路徑、詐騙入局手段余弦強調「釣魚」是個廣泛概念，手法雖多但基本大同小異，而儘管這些手段已相當氾濫，仍不時有用戶受騙，他呼籲大家勢必要更為謹慎。釣魚路徑包括：Google/X 等廣告投毒、X 評論或私信投毒。駭入官方帳號 (X、Discord、Telegram 等) 發佈釣魚連結。BGP/DNS 等劫持方式，在官網植入惡意代碼。隱蔽的陷阱合約 (貔貅盤、套利陷阱等)。偽造事件/零轉賬等障眼法。硬體錢包售賣渠道被中間人動手腳。誘騙用戶直接「上供」自己的助記詞。偽裝記者、資方、專案方等，誘騙用戶下載中毒文件。余弦最後提到了 ZeroTransfer 詐騙手法，即刻意生成與與用戶頭尾相同的地址、發送小額交易，等待用戶下次誤認此地址並進行轉帳。幣安本身此前也曾遇過類似事件。(ZeroTransfer詐騙！加密錢包地址不能僅看頭尾，趙長鵬CZ提醒：幣安險被騙兩千萬美元 (零 U 地址投毒))DaaSDrainer-as-a-ServiceDrainers釣魚手法釣魚路徑 衍伸閱讀花蓮知名市代會主席捲入虛擬貨幣詐欺風暴，檢警展開全面搜索貝萊德進軍現實世界資產，與Securitize聯手推出代幣化基金'},\n",
              " 'post-95377': {'url': 'https://abmedia.io/how-to-explore-ethereum-and-l2-with-okx-web3-wallet',\n",
              "  'categories': '贊助文章',\n",
              "  'title': '坎昆升級開啟降費時代，如何通過OKX Web3錢包全面探索以太坊和L2生態？',\n",
              "  'content': '3月13日，據 OKLink 資料顯示，以太坊於區塊高度269568正式啟用Dencun升級，進入Layer2低費用時代。降本增效後，以太坊能否王者歸來？內容目錄Toggle以太坊歷年進展瞭解坎昆升級如何透過OKX Web3錢包全面探索以太坊和L2生態？坎昆升級，為以太坊和L2注入活力以太坊歷年進展以太坊在2015 年7月30日正式上線，開創了智慧合約的新時代，因DeFi和NFT Summer等鏈上應用繁榮發展風光無兩，也因Solana等高效能公鏈的低Gas競爭以及比特幣生態的虹吸效應略顯落寞。儘管以太坊試圖透過2.0版本扭轉局面，但由於技術迭代過程漫長且複雜始，平臺效能短期內始終不盡人意，高昂的Gas費用成為使用者轉移的關鍵原因之一。以太坊擁堵的巨大壓力，直接推動了L2的宏大敘事。Vitalik Buterin開始支援各類擴充套件性解決方案。他在文章裡深刻的寫到，“沒有Layer2和Rollup發展，以太坊將因高額交易成本走向失敗。”如何解決「又貴又堵」的效能問題，成為以太坊當下發展的核心主題。據 OKLink 資料顯示，L2生態TVL呈持續上漲趨勢，L2生態總TVL已高達38.31\\u200aB美元。廣告 - 內文未完請往下捲動Arbitrum、Optimism等主流L2方案都共享了以太坊的安全性，雖然計算轉移到了鏈下，但資料都會交由以太坊節點處理並永久儲存於昂貴的鏈上，這些費用最終都轉移到了使用者身上。所以L2在一定程度上緩解了以太坊交易壓力並降低了Gas，但相對於適應了免費使用的Web2使用者的而言，L2有作用，但作用有限。而坎昆升級的成功，正式開啟了L2降費時代，將重新為L2生態以及以太坊注入新的活力。3月15日，據 OKLink 資料顯示，坎昆升級後Starknet、OP等L2網路手續費暴降90%以上，且其活躍地址、TPS等都有顯著提升。作為行業領先的一站式Web3入口，OKX Web3錢包現已全面支援以太坊和L2生態，為使用者更好的探索鏈上世界提供了重要基礎。數據來源： OKLink瞭解坎昆升級Dencun升級是以太坊執行客戶端Cancun和共識客戶端Deneb兩項升級的簡稱，社區習慣用坎昆升級代指Dencun升級，核心目的在於優化用戶以太坊質押體驗的同時，實現L2的降本增效。坎昆升級包含EIP-1153、EIP-4788、EIP-4844、EIP-5656、EIP-6780、EIP-7044、EIP-7045、EIP-7514和EIP-7516在內的共計9個以太坊改進提案EIP，其中最為核心的是EIP-4844提案，即Proto-Danksharding。EIP-4844提案是完整版分片擴容 Danksharding的基礎，為以太坊引入一種全新的數據存儲結構Blob，將專門用於存儲L2向以太坊提交的交易數據，不再需要競爭 Calldata 的存儲空間，使用戶交易費用更便宜、交易體驗更高效。在以太坊繁榮與高Gas互為矛盾的大背景下，為爭奪有限的區塊資源、導致其變得低效、擁堵、昂貴，飽受市場詬病。此前以太坊 L2 的所有交易都被存儲在以太坊的Calldata中，但Calldata空間有限且其存儲的數據都會被以太坊節點處理並永久存儲於鏈上。據悉，L2網絡80%的交易成本及Gas均來自Calldata數據存儲成本。Blob通過在以太坊上創建額外的臨時數據存儲空間，從而大幅降低L2數據存儲成本、並實現了更高的的交易吞吐量。據 OKLink 數據顯示，當前Arbitrum、Optimism、Starknet、Base等主流L2已紛紛集成EIP-4844，其網絡Gas降幅超90%以上。更多數據可以點擊鏈接查看：https://www.oklink.com/cn/eth/dencun-upgrade\\xa0但值得注意的是，Blob的資料儲存是臨時性的，其可用時間為 4,096 個 Epoch，即大約 18 天。以太坊需要保證的是實時資料可用性而不是資料可檢索性，永久儲存交易資料的價值和意義並不高，Blob定期清除資料可以節省儲存空間，整體上有助於以太坊保持核心競爭力，在公鏈賽道維持甚至奪取更多市場份額。不過被Blob丟棄的部分資料仍存在潛在被呼叫的價值，比如防止節點作惡、公鏈的運營者rug、以及幫助建立逃生艙機制或者強制取款機制等，為此，OKLink 將負責安全儲存所有 blob 資料，確保歷史資料的安全性和可檢索性，以支援以太坊生態系統的健康發展，並可以隨時為對於Blob 資料有需求的個人及公鏈團隊提供服務。此外，EIP-4844 將為 Blob 引入新的費用市場，更利於保持更優的價格。資料儲存結構Blob的引入將在現有基礎幫助以太坊L2大幅降低費用，比如zkSync系首個使用Blob的L2，其排序器成本降低約88%、Starknet實際Gas費低至0.01美元等等，但實際還要取決於L2本身的各種因素。此外，還將幫助L2交易提速10倍甚至100倍。當然，除了EIP-4844外，本次升級還包括EIP-1153、EIP-6780等等。總之，坎昆升級後能鼓勵更多的交易活動，並長遠性地支援L2和以太坊生態發展。如何透過OKX Web3錢包全面探索以太坊和L2生態？坎昆升級後，使用者可以用非常低廉的GAS進行鏈上交易，作為行業領先的一站式Web3入口，OKX Web3錢包現已全面支援以太坊和L2生態，為使用者更好的探索鏈上世界提供了重要基礎。當前OKX Web3 提供完善的以太坊及以太坊二層生態支援，已率先接入Blast、Optimism、Arbitrum、Starknet、zkSync Era、Manta Pacific等等主流L2網路，使用者無需手動配置，可一鍵切換至這些網路進行相應幣種管理。為了提升資金效率，使用者可以透過OKX DeFi板塊與以太坊再質押協議進行互動，“再質押”這一概念由 Eigenlayer 首次提出，即允許使用者將質押在以太坊主網的 ETH 再次透過 Eigenlayer 質押在其他共識協議上。這樣不僅這些協議可以共享以太坊安全性，使用者也可以獲得額外獎勵。OKX Web3 DeFi 推出的“再質押賺幣活動”現已接入多種型別的再質押協議，為使用者提供額外的積分或代幣獎勵。透過“ETH 再質押”、“流動性質押”或“流動性再質押”，使用者可獲得額外獎勵。比如，參與Kelp額外獲得 30% 的積分獎勵、參與Renzo額外獲得 10% 的積分獎勵和高達 20% 的加息獎勵等等。點選連結可以立即參與：https://www.okx.com/cn/web3/defi/activity/8使用者可以透過OKX DEX進行以太坊以及L2資產兌換以及跨鏈，享受鏈上最佳流動性、最優價格、且 0 交易服務費，並輕鬆交易任何資產。目前OKX DEX已支援多個以太二層網路，如 Avalanche C、Arbitrum、Optimism、zkSync Era、Polygon zkEVM、Linea、Base、Mantle、Starknet、Scroll等。OKX DEX是強大的 DEX 和跨鏈聚合器，現已聚合 20 多條跨鏈、20 多條公鏈、400 多個 DEX 等，並同時擁有 DEX 行情板塊、限價單、KYT 安全檢測等功能，還已新增意圖交易模式、幫助使用者享受無 GAS 交易體驗。為了幫助使用者降低進入 Web3 的門檻，減少搜尋成本的同時，利用碎片化的時間也能精準互動。Cryptopedia上線了 zkSync Era等L2等生態互動任務，透過聚合和精選優質 DApps 並設定互動任務，幫助使用者體驗絲滑的鏈上世界的同時，獲得多重獎勵。比如，使用者透過 OKX Cryptopedia 體驗精選 zkSync Era 生態 DApp，可以更好的探索L2生態並獲得獎勵。OKX Cryptopedia 是一站式 DApp 探索和獎勵互動平臺，平臺會定期推出以不同區塊鏈網路為主題的活動，並與相應的合作伙伴一起，共同設定 DApp 互動任務。OKX Discover率先上線Layer2生態探索，以第一時間支援以太坊坎昆升級，幫助使用者快捷安全地參與以太坊和L2生態。此外，為更廣泛的探索以太坊和L2生態、以及發掘並互動熱門DApp，使用者可以透過OKX Discover板塊發現並跳轉熱門DApp，更加簡單、便捷地探索鏈上世界。比如，OKX Discove新增再質押、Solana生態、銘文、Bitcoin生態、必備工具、熱門鏈遊等多個熱點專區，為使用者提供最新最熱門的鏈上動態。此外，使用者可以透過OKX 瀏覽器或者OKLink推出的Dencun 升級專題頁，隨時隨地檢視 Layer2 網路相關資料，包括最直觀的資料，幣價、手續費的降低情況；由手續費、TPS 變動引起的可能引起的發展，TVL、TVB、活躍地址數；以及升級對於以太坊資料帶來的變動等等。此外，還可以檢視ETH完整的發展歷程、升級回顧等等。OKX Web3錢包透過各板塊對以太坊和L2生態協同支援，幫助使用者簡單、安全、高效的探索鏈上世界，成為使用者必不可少的Web3工具。坎昆升級，為以太坊和L2注入活力以太坊開闢了與比特幣點對點電子現金系統差異化路徑。作為全球最大的開源平臺，以太坊首次將智慧合約引入區塊鏈世界，引領了加密行業的發展方向，為去中心化的未來奠定了基礎。以太坊不僅僅是創造了一種加密貨幣，更是一種新型的金融基礎設施，為人們提供了更加自由、安全和開放的交易環境，推動整個行業的創新和進步。作用擁有最大開發者社群的L1，以太坊的正統性仍無法被取代，儘管其因為其擁堵昂貴的效能以及激烈的公鏈賽道競爭陷入「四面楚歌」，但隨著L2以及Rollup等各類擴容方案的創新，必將擔負起承擔主網的巨量交易壓力，為以太坊2.0的到來贏得時間和空間。縱觀迭代歷程，OKX Web3錢包一方面透過支援以太坊和L2生態，助力以太坊社群建設，另外一方面透過連線使用者為以太坊和L2生態帶來巨量的流動性，成為以太坊和L2生態的重要的建設者。OKX Web3錢包現在全面支援以太坊和L2生態，憑藉良好的技術累積和持續的創新性，透過提供最先進的市場工具，極大地降低使用者參與門檻，幫助其一站式玩轉鏈上世界。儘管步履緩慢，但以太坊這個巨大的創造性機器從未停下，從邊境、家園、大都會到寧靜，歷經數次升級和眾多的EIP提案之後，每一步，都距離成為一個可擴充套件、去中心化和全球可訪問的結算層願景越來越近。此外，隨著市場目光從比特幣現貨ETF轉向以太坊現貨ETF，也將為以太坊帶來更多的關注和活力。OKX Web3 衍伸閱讀OKX Wallet｜業界首例BRC-20錢包！OKX Web3多鏈錢包支援BRC-20交易OKX Web3錢包推出無Gas轉帳功能，用戶每日首筆轉帳無Gas Fee'},\n",
              " 'post-95346': {'url': 'https://abmedia.io/gpif-to-seek-information-on-business-diversification-including-btc',\n",
              "  'categories': '政策監理、比特幣',\n",
              "  'title': '採多元化投資戰略，日本政府養老基金GPIF考慮納入比特幣、黃金',\n",
              "  'content': '內容目錄Toggle日本政府養老投資基金 GPIFGPIF 考慮納入比特幣、黃金日本政府養老投資基金 GPIFGPIF (Government Pension Investment Fund) 是由日本政府設立的法人行政機構 (獨立行政機構)，是世界上最大的退休投資基金，也是日本資產規模最大的公共基金投資者。GPIF 目前廣泛投資於境內外股票、債券等傳統資產，以及基礎建設、房地產等另類資產。2023 年數據顯示，GPIF 規模達 1.5 兆美元，其次為挪威政府全球養老基金 (Government Pension Fund Global) 的 1.3 兆美元。廣告 - 內文未完請往下捲動GPIF 考慮納入比特幣、黃金據日本彭博報導，GPIF 於 19 日宣布，將尋求多元化投資的相關資訊，例如非流動資產包括比特幣、黃金、林地及農地等。除了解特定資產的基礎知識外，GPIF 還會尋求海外退休基金如何將這些資產納入投資組合中的實際案例。GPIF 的聲明並不代表未來確定會擴大投資標的，而是會根據搜集的資訊來考慮是否將進行下一步研究。GPIF比特幣 衍伸閱讀加密市場清算6億美元，比特幣跌破63K，以太幣跌幅已達兩成Matrixport建議做空ETH；10X Research下看比特幣至5.9萬美元'},\n",
              " 'post-95334': {'url': 'https://abmedia.io/solana-meme-coin-presale-boom',\n",
              "  'categories': '交易市場',\n",
              "  'title': '推特貼文吸金上億鎂：迷因幣預售潮 27 種 Solana 迷因幣募 1.22 億美金',\n",
              "  'content': '近期 Solana 鏈出品的迷因幣造成搶購炫風，Solana 上的迷因幣 Book of Meme (BOME) 在所有迷因幣中，交易量占據第一，更勝 DOGE 這個始祖迷因幣。當前市場的迷因幣狂熱，早已經不是以太坊的專利 ; 從交易量來看，BOME、dogwifhat (WIF)、BONK、MYRO、LADYS 都是榜上有名的 Solana 迷因，顯示 Solana 在迷因幣社群的強勢。也有一說認為是迷因幣帶動了 SOL 的強勢上漲。(SOL 突破 200美元、市值創新高，迷因幣發幣熱潮席捲 Solana)廣告 - 內文未完請往下捲動內容目錄Toggle迷因預售潮，吸金上億美金迷因幣可能面臨頂峰迷因預售潮，吸金上億美金以 BOME 為例，其創作者 @Darkfarms1 就透過推特「預售」迷因幣，募集了 10,132 個 SOL (約 200 萬美元)。鏈上偵探 Zach 彙整了所有在推特上進行預售的迷因幣，在 27 個迷因幣專案中，共募集 65 萬多個 SOL (約 1.22 億美元)。有趣的是，其中還有多數募集大量資金的迷因幣專案，仍未發幣 (不存在代幣合約地址)。迷因幣可能面臨頂峰有專家觀察，熱衷迷因幣交易的韓國交易所，其迷因幣交易量已經開始大幅下滑 ; 整體交易量也同步下降，可能是迷因幣熱潮頂峰。(炒股不如炒幣，韓國加密貨幣交易量直逼股票交易市場)I was interested to see how much SOL has been sent as a result of the presale meta and calculated >655,000 SOL ($122.5M) raised from 27 presales. pic.twitter.com/dvsW4TSoov— ZachXBT (@zachxbt) March 19, 2024數位藝術家 Beeple 也作畫來回應這個用「預售」來販賣迷因幣的熱潮：PRESALE SEASON pic.twitter.com/qQPbVJJtdS— beeple (@beeple) March 18, 2024Solana推特迷因幣預售 衍伸閱讀SOL突破200美元、市值創新高，迷因幣發幣熱潮席捲Solana迷因幣Book of Meme (BOME) 24小時漲五倍，一地址兩天賺進430萬美元'},\n",
              " 'post-95332': {'url': 'https://abmedia.io/net-outflow-of-154m-on-18-march-for-bitcoin-etfs',\n",
              "  'categories': '比特幣',\n",
              "  'title': '比特幣現貨ETF連十天淨流入中斷，GBTC淨流出創紀錄',\n",
              "  'content': '內容目錄Toggle比特幣現貨 ETF 結束 10 日淨流入灰度 GBTC 淨流出創新高比特幣現貨 ETF 結束 10 日淨流入比特幣 ETF 在 3 月 18 日中淨流出 1.54 億美元。上一次的淨流出是在 3 月 1 日 (-1.39 億美元)，這也代表 ETF 中斷了連續 10 日的淨流入。自 1 月 11 日上市以來，比特幣現貨 ETF 總淨流入自上週約 121 億美元，降至 120 億美元。廣告 - 內文未完請往下捲動\\xa0各家發行商在 3 月 18 日淨流入數據如下：灰度 GBTC：-6.42 億美元貝萊德 IBIT：4.51 億美元富達 FBTC：590 萬美元Bitwise BITB：1,760 萬美元Vaneck HODL：570 萬美元Valkyrie BRRR：480 萬美元方舟 ARKB：270 萬美元灰度 GBTC 淨流出創新高灰度 GBTC 在 3 月 18 日仍是淨流出主力 (-6.42 億美元)，高於貝萊德的淨流入。SoSoValue 數據顯示，GBTC 在 18 日淨流出 -6.42 億美元已刷新了歷史新高。GBTC 前五大流出日如下：3 月 18 日：-6.42 億美元1 月 22 日：-6.4 億美元2 月 29 日：-5.98 億美元1 月 16 日：-5.94 億美元1 月 19 日：-5.9 億美元GBTC 淨流出數據此前報導，Matrixport 分析師、分析機構 10X Research 創辦人 Markus Thielen 曾強調，18 日、19 日的 ETF 數據相當關鍵，顯然比特幣並未交出好成績。他預測若 ETF 流入不如預期，比特幣可能跌至 5,9000 美元。(Matrixport建議做空ETH；10X Research下看比特幣至5.9萬美元)GBTC比特幣現貨 ETF 衍伸閱讀比特幣一度跌至6.5萬美元，現貨ETF淨流入連兩日低迷香港業者呼籲儘快批准虛擬資產現貨 ETF，以免幫美資抬轎'},\n",
              " 'post-95312': {'url': 'https://abmedia.io/okx-delists-usdt-pairs-tether-europe',\n",
              "  'categories': '政策監理',\n",
              "  'title': '歐盟加密法案MiCA發威！OKX下架歐洲地區USDT交易對，Circle捷足先登？',\n",
              "  'content': '據 OKX 向用戶發送的信件內容指出，近日已下架與 USDT 相關的所有交易對，目前的 USDT 僅能用以支援 EUR 與 USDC 交易對的現貨交易。外界對此普遍認為，此舉與即將生效的歐盟加密法案 (MiCA) 有關。內容目錄ToggleOKX 下架歐洲區域 USDT 交易對歐盟加密法案 MiCA 生效在即Circle 領先 Tether？OKX 下架歐洲區域 USDT 交易對用戶 MartyParty 在昨日發推透露，加密貨幣交易所 OKX 已停止支援歐盟及歐盟經濟區 (EEA)，有關 Tether 所發行的美元穩定幣 USDT 的絕大多數交易對。Breaking: @Tether_to $USDT pairs have been removed by @okx in the EU 👀Only $EUR and $USDC @circle pairs now allowed. Huge news. pic.twitter.com/E1HNHRaLkB— MartyParty (@martypartymusic) March 18, 2024如圖，OKX 在一封寄給當地用戶的信件中表示：廣告 - 內文未完請往下捲動請注意，由於監管要求，您目前所在地區的 USDT 交易對已無法再交易。未來，現貨市場上唯一可用的 USDT 貨幣交易對僅有 USDT/EUR 及 USDT/USDC。並補充，「USDT 仍能進行存提款，並在場外交易 (OTC) 中購買或出售。」OKX 在信中也提到，此舉僅會影響少部分用戶，而未來將把焦點放在擴大歐元兌加密貨幣的流動性：與此同時，我們也將推出 30 多個全新的歐元現貨交易對。截至目前，OKX 及 Tether 對此仍未作出回應。歐盟加密法案 MiCA 生效在即外界推測，OKX 上述的監管原因，可能與《加密資產市場法 MiCA》監管框架中的穩定幣規範有關。法規指出，僅有電子貨幣機構 (EMI) 及信貸機構才能夠發行穩定幣。據悉，該法將於今年年底前生效，而穩定幣法規則預計在 6 月前施行。(歐盟加密法案 MiCA 即將生效，Binance 警告穩定幣可能大規模下架)於此，Tether 作為當前穩定幣市值超過 1 千億美元的發行商，其儲備透明度與監管合規性一直備受討論及放大檢視。另一方面，美國也即將出台具體的穩定幣法案，為包括 Tether 及 Circle 等眾多穩定幣發行商，提供一致的 KYC 及反洗錢等監管標準。Circle 領先 Tether？去年 12 月，穩定幣市值規模僅次於 USDT 的發行商 Circle (USDC)，搶先 Tether 獲得法國金融市場管理局 (AMF) 所提供，有關數位資產服務提供商 (DASP) 的條件性註冊，並在後續申請了 EMI 許可證。(Circle已獲法國數位資產服務提供商 (DASP) 條件性註冊，強化歐洲合規發展)就歐洲穩定幣市場的監管面而言，Circle 所發行的歐元穩定幣 EURC 的確正處於領先階段。然而，歐元穩定幣市場仍屬早期，其他競爭者除了 Tether 所發行的 EURT 外，還包括法國銀行三巨頭法國興業銀行 (Societe Generale) 所推出的穩定幣 EURCV (EUR CoinVertible)\\xa0等。Circle（USDC）MiCAOKXTether（USDT）歐元穩定幣歐洲穩定幣 衍伸閱讀Circle已獲法國數位資產服務提供商 (DASP) 條件性註冊，強化歐洲合規發展Conio與Coinbase合作，為義大利金融機構提供數位資產流動性'},\n",
              " 'post-95324': {'url': 'https://abmedia.io/boj-ends-negative-rate-policy',\n",
              "  'categories': '傳統金融、政策監理',\n",
              "  'title': '日本央行正式結束負利率，比特幣兌日圓還能創新高嗎？',\n",
              "  'content': '日本央行 (BOJ) 宣布正式結束負利率政策，17 年來首次升息，將基準利率從-0.1%上調至 0% 至 0.1% 的區間，同時也取消了殖利率曲線控制政策。政策宣布後，日股上漲，日幣仍走貶，比特幣兌日圓還能創新高嗎？內容目錄Toggle日股上漲，日幣仍走貶比特幣兌日圓還能創新高嗎？日股上漲，日幣仍走貶日經 225 指數今日收在四萬點以上，上漲 0.66%。日本股市在經歷了數十年的低迷後，終於在二月突破 1989 年的高點，3/6 盤中曾創高到 40,472 。(日本股市突破歷史新高，波克夏投資五大商社大賺 80 億美元)廣告 - 內文未完請往下捲動不過雖然日本終結自 2016 年 2 月實施的負利率政策，但與美元間的利差仍有 5% 以上的差距，美元兌日幣 (USDJPY) 僅在公布後短暫下跌，隨後又一路上行，截稿前報 150.36。日幣的走勢仍顯疲軟。比特幣兌日圓還能創新高嗎？由於日幣長期處於負利率，被投資人做為利差交易 (carry trade) 的工具，比特幣兌日圓早在二月就創下歷史新高 (當時比特幣兌美元仍在 52K) 。如今日本終於結束負利率時代，日本股市不斷上漲，再加上日本企業薪資和國內物價同步上漲，日幣是否能從此擺脫貶值的命運，慢慢回到正軌呢？註：利差交易 (carry trade) 指在低利率的國家 (比如日本) 借錢，換成較高利率國家 (如美國) 的貨幣，以賺取利差。(比特幣兌日圓創歷史新高，日本GDP被德國超車，痛失第三大經濟體寶座)BOJUSDJPY利差交易 衍伸閱讀央行貨幣實驗進展順利，日本央行決定在4月啟動CBDC試驗計劃央行數位貨幣試驗持續進行，但日本央行不考慮實施主要因素：現金為王'},\n",
              " 'post-95305': {'url': 'https://abmedia.io/bitcoin-correction-may-continue',\n",
              "  'categories': '以太坊、比特幣',\n",
              "  'title': 'Matrixport建議做空ETH；10X Research下看比特幣至5.9萬美元',\n",
              "  'content': 'Matrixport 與分析機構 10X Research 創辦人 Markus Thielen 在短期內分別不看好 ETH 與 BTC 的價格走勢。內容目錄ToggleMatrixport：建議空 ETH 對沖 BTC10X Research：比特幣 ETF 流量成關鍵比特幣可能跌至 5,9000 美元Matrixport：建議空 ETH 對沖 BTCMatrixport 推文表示，與此前分析相同，以太坊 Gas 費用持續下降表明 ETH 正失去上漲動能。此外以太坊現貨 ETF 批准與否仍存在爭議，在 Dencun 升級後，一個重要的 (利多) 催化劑已不復存在，因此我們建議以開空 ETH 對沖任何比特幣多單。廣告 - 內文未完請往下捲動Matrixport 的立場與渣打稍早釋出的分析截然不同。(渣打：以太坊現貨 ETF 仍可能在五月批准，ETH 年底上看 8000 鎂)As we showed a week ago and also in our Matrix on Target report, #Ethereum is losing upside momentum as indicated by the drop in gas fees. We also warned that the Ethereum ETF approval is at odds and after the Dencun upgrade, an important catalyst has been removed. This made us… pic.twitter.com/4dJbQGfozY— Matrixport (@realMatrixport) March 19, 202410X Research：比特幣 ETF 流量成關鍵Matrixport 分析師、分析機構 10X Research 創辦人 Markus Thielen，在最新報告中仍看好 BTC 後勢，但 ETF 流量與價格支撐會是關鍵。Farside Investors 數據顯示，上週五天的比特幣淨流入分別為：3/11：5.05 億美元3/12：10.45 億美元3/13：6.83 億美元3/14：1.32 億美元3/15：1.98 億美元最後兩日的淨流入被許多分析視為比特幣週末下跌的原因之一。比特幣可能跌至 5,9000 美元CoinDesk 引用 Markus Thielen 的報告指出，其認為比特幣雖然在 67,000 美元水平，但真正的考驗是週一與週二的美股開盤時間，若 ETF 流入不如預期，比特幣可能會持續下調。他表示：雖然這種說法不討喜，但價格經歷大幅波動後，預計資金流入將放緩，根據我們的反轉指標，回調至 59,035 美元的可能性似乎更大，這表明 BTC 價格將再下跌 10%。(10X Research：比特幣跌至63K後繼續漲，競爭幣、迷因幣短期已見頂)10x researchETF比特幣 衍伸閱讀10X Research：比特幣跌至63K後繼續漲，競爭幣、迷因幣短期已見頂比特幣觸及 65K！10x Research：本週比特幣將突破歷史高點'},\n",
              " 'post-95301': {'url': 'https://abmedia.io/nvidia-gtc-jensen-huang-bring-ai-robot',\n",
              "  'categories': '商業應用',\n",
              "  'title': '輝達打造人形機器人通用模型 GR00T ，為 AI 機器人鋪路',\n",
              "  'content': '輝達 (NVIDIA) 年度 GTC 大會正式揭幕，執行長黃仁勳 (Jensen Huang) 展示專為人形機器人所設計的通用基礎模型 Project GR00T，現場並請出了機器人大軍共襄盛舉，為 AI 機器人的時代揭開序幕。根據 TechCrunch 的報導，NVIDIA 在 GTC 大會中宣布了人工智慧平台 GR00T創辦人黃仁勳表示：廣告 - 內文未完請往下捲動為通用人形機器人建立基礎模型，是當今人工智慧領域最令人興奮的事情之一！輝達正在為最近進入該產業的公司建立一個人工智慧平台，合作公司包括 1X Technologies、Agility Robotics、Apptronik、Boston Dynamics、Figure AI、Fourier Intelligence、Sanctuary AI、Unitree Robotics 和 XPENG Robotics 等公司。這幾乎涵蓋了目前所有著名的人形機器人製造商，除了特斯拉之外。其中 Figure AI 的人形機器人使用 OpenAI 模型，背後金主包括微軟、OpenAI、輝達、 英特爾資本 (Intel Capital) 以及貝佐斯 (Jeff Bezos)家族辦公室。上週機器人與人類的互動影片也引發了大眾的注目。而影片中黃仁勳請出的迪士尼研究工作室 BDX 機器人——小綠和小橘，就用超萌的樣態在台上與黃仁勳互動。AI 機器人NVIDIA輝達 衍伸閱讀台積電秒填息，受惠輝達 AI 訂單，2023 賺贏南韓十大企業總和輝達 (Nvidia) 財報再度超乎預期，AI 幣同慶'},\n",
              " 'post-95306': {'url': 'https://abmedia.io/fidelity-eth-etf-amendent',\n",
              "  'categories': '以太坊、傳統金融',\n",
              "  'title': '華爾街入場質押 ETH？富達投資修訂 ETF 申請，期望開放以太幣質押',\n",
              "  'content': '富達投資 (Fidelity Investment) 對其以太幣 ETF 的申請進行重大修訂，更新增加了一項突破性功能：質押加密貨幣的能力，這代表傳統金融與日益興起的加密貨幣世界交會的關鍵時刻。內容目錄Toggle富達質押以太幣，以太幣 ETF 紅利多更多質押龍頭 Lido 有可能被傳金機構趕上？\\xa0富達從比特幣擴張到以太幣華爾街入場質押以太幣影響安全性？富達質押以太幣，以太幣 ETF 紅利多更多根據 3 月 18 日富達投資最近一次修訂揭露的細節，富達將進軍以太幣質押。檔案說明說：「發起人 (sponsor) 可以逐次透過一個或多個可信質押服務提供者 (可能包括發起人的關聯方) 質押基金的部分資產 (質押提供者)。」此政策是為了重新定義投資者透過富達與加密貨幣互動的方式，投資者可以基於以太幣質押獎勵獲得潛在收入。廣告 - 內文未完請往下捲動質押龍頭 Lido 有可能被傳金機構趕上？\\xa0Lido 作為質押服務提供者中的佼佼者，目前管理著高達 350 億美元的以太幣，顯示質押服務的巨大潛力和吸引力。富達若能成功進場質押服務，有可能影響以太坊自身的生態系統。富達從比特幣擴張到以太幣自從 1 月份獲得其比特幣現貨 ETF 的批准以來，富達並未止步。這家金融巨頭成功吸納了約 132,570 比特幣，資產總值超過 90 億美元。此次擴展到以太幣領域，特別是透過質押，顯示富達致力於多元化其加密貨幣產品，並為其客戶提供創新解決方案的承諾。華爾街入場質押以太幣影響安全性？質押涉及參與在證明權益 (PoS) 區塊鏈上，如以太坊的交易驗證，這個過程不僅支持網路的安全和效率，還為參與者提供獎勵。輿論認為，富達進入以太幣質押可能對網路產生深遠的影響，可能促使其運作和治理發生重大變化。總之，富達對其以太幣 ETF 進行修訂，包括可開放質押，不僅僅是一次簡單的更新，而是可能更近一步融合傳統金融和加密貨幣領域。ETFETH以太幣富達質押 衍伸閱讀BTC觸及6.8萬美元，比特幣ETF交易量創次高，資產規模超過黃金ETF五成Michael Saylor：比特幣現貨ETF的需求是供應量的10倍、將持續購入比特幣'},\n",
              " 'post-95309': {'url': 'https://abmedia.io/google-is-collaborating-with-apple-to-launch-geminiphone',\n",
              "  'categories': '商業應用',\n",
              "  'title': '傳言 Google 與 Apple 合作發展 AI，將 Gemini 導入 iPhone',\n",
              "  'content': '根據彭博報導，市場傳言 Google 將與 Apple 合作，將前者旗下的 Gemini 模型導入 iPhone，快速提升現有 iOS 生態的 AI 發展，消息一出 Google 股價一度上漲 7%。內容目錄Toggle傳言 Google 與 Apple 合作推 AI 服務Google、Apple AI 發展遇瓶頸可能合作推出 GeminiPhoneGoogle 股價上漲傳言 Google 與 Apple 合作推 AI 服務Google、Apple AI 發展遇瓶頸彭博分析師認為 Apple 股價最近成長緩慢的其中一個原因，出自於其 AI 發展計畫不明確，在自家 AI 產品與技術推出之前，需要一個短期的解決方案填補市場缺口。另一方面，Google 近期旗下的 AI 圖像生成器 Gemini 出包，出現許多嚴重的圖像生成偏差，例如將教皇的圖像繪製成亞洲女性的臉孔，受到市場嚴厲的批評。廣告 - 內文未完請往下捲動且除了圖像生成，Google 的 AI 工具在大幅優化搜尋產品之前，也極需要一個立即可落地的應用場景。因此 Google 近期推出的相關AI 產品線多元複雜。(文字或圖片就能創造遊戲？Google 推出生成式互動環境 AI 模型「Genie」)Google AI 產品線發展圖 (資料來源)因此，雖然 Google 與 Apple 在 AI 領域上一直是競爭對手，但是雙方高層似乎認為本次合作可以作為這些問題的短期解決方案。可能合作推出 GeminiPhone根據彭博報導，市場傳言 Google 將與 Apple 合作，將 Gemini 整合至 iOS 18，讓用戶可以在 iPhone 等內建服務上直接使用 Gemini 的功能，市場稱之為「GeminiPhone」。這在雙方的利益之下是合理的選項。分析師認為 Google 過往花費鉅額預算讓自家搜尋引擎在 Apple 裝置中作為預設選項，而非限定於自家 Android 裝置，可看出該公司對於追求規模化的策略，同理適用於 Gemini 的推廣。而 Apple 雖然想要發展自家的人工智慧產品，但是目前缺乏現有的大型訓練模型，相對其他競爭者落後，短期的合作可以滿足開發者的需求。Google 股價上漲似乎受到此消息的刺激，昨日美股 Google 股價一度開盤上漲 7%，最終以 4.6% 漲幅收盤。Apple 則微幅上漲 0.5%。AIAppleGeminiGoogleiOS 18 衍伸閱讀文字或圖片就能創造遊戲？Google 推出生成式互動環境 AI 模型「Genie」Reddit 與 Google 簽署合作關係，提供內容供 Google 訓練 AI 模型'},\n",
              " 'post-95296': {'url': 'https://abmedia.io/bitcoin-just-hit-9k-on-bitmex',\n",
              "  'categories': 'CeFi、交易市場',\n",
              "  'title': '比特幣現貨「XBT／USDT」一度跌至8,900美元，BitMEX回應：調查中',\n",
              "  'content': \"內容目錄ToggleBitMEX 比特幣價格跌至 8,900 美元BitMEX：調查中、未禁用出金BitMEX 比特幣價格跌至 8,900 美元數據顯示，BitMEX 現貨交易對 XBT／USDT 價格在台灣時間 3 月 19 日 06:30 跌至 8,900 美元 (-86.73%)。約半小時後才恢復至 65,000 美元水平。XBT／USDT 週線｜BitMEXBitMEX：調查中、未禁用出金推特用戶 @syq 指出，有交易者在兩個小時內以 10 – 50 枚分批拋售了 400 多枚 BTC，導致價格滑點超過 30% 以上，且\\xa0BitMEX 已暫停用戶出金。廣告 - 內文未完請往下捲動對此 BitMEX 解釋，並未對所有用戶停用提款，而僅對接受調查的少數帳戶禁用。BitMEX 回覆稱：正調查過去幾個小時內用戶在 BTC\\xa0 現貨市場上出售大額訂單的異常活動，這不會影響 BitMEX 的任何衍生性商品市場，也不會影響 XBT 衍生性合約的指數價格，交易平台運作正常，所有資金是安全的。Someone just dumped 400+ BTC over 2 hours in 10-50 BTC clips on the XBTUSDT pair on Bitmex eating 30%+ slippage. They must've lost $4m+ at least. pic.twitter.com/g64NRQ4h5a— syq (@syq) March 18, 2024BitMEXXBT比特幣現貨 衍伸閱讀BitMEX舉辦台灣首場《量化交易入門工作坊》，打造牛市「實戰」交易策略Ordinals錢包Oyl已完成300萬美元融資，BitMEX創辦人Arthur Hayes參投\"}}"
            ]
          },
          "execution_count": 7,
          "metadata": {},
          "output_type": "execute_result"
        }
      ],
      "source": [
        "articles_info"
      ]
    },
    {
      "cell_type": "code",
      "execution_count": 8,
      "metadata": {
        "id": "zbDNiWulkBEg"
      },
      "outputs": [],
      "source": [
        "articles_info_json = json.dumps(articles_info, ensure_ascii=False, indent=4)"
      ]
    },
    {
      "cell_type": "code",
      "execution_count": 9,
      "metadata": {
        "colab": {
          "base_uri": "https://localhost:8080/",
          "height": 178
        },
        "id": "a_BwAOv4kLVc",
        "outputId": "6bde9454-dcbb-43f3-fd61-254d5ee1ba22"
      },
      "outputs": [
        {
          "data": {
            "application/vnd.google.colaboratory.intrinsic+json": {
              "type": "string"
            },
            "text/plain": [
              "'{\\n    \"post-95395\": {\\n        \"url\": \"https://abmedia.io/crypto-market-crashs-0319\",\\n        \"categories\": \"交易市場\",\\n        \"title\": \"加密市場清算6億美元，比特幣跌破63K，以太幣跌幅已達兩成\",\\n        \"content\": \"比特幣與以太幣分別跌至 63,000 美元、3,200 美元水平，SOL 在短暫觸及 200 美元後也跌至 173 美元水平，而美股微策略 (MSTR) 在 3 月 19 日開盤前已下跌 -9.16%。內容目錄Toggle比特幣跌破 63K以太幣跌破 3.3 K加密市場清算 6.3 億美元微策略盤前下跌近 10%迷因幣領跌、SOL 跌至 170比特幣跌破 63K比特幣在 3 月 19 日最低跌至 62,721 美元，24 小時跌幅 -7.4%。自比特幣 14 日寫下歷史新高 73,787 美元後，跌幅已達 -13.39%。廣告 - 內文未完請往下捲動BTC／USDT 4H｜OKX以太幣跌破 3.3 K以太幣跌至 3,205 美元， 24 小時跌幅 -9.28%，自以太幣在 3 月 12 日寫下年內高點 4,092 美元後，跌幅已達兩成 (-20.33%)。ETH／USDT 4H｜OKX加密市場清算 6.3 億美元CoinGlass 數據顯示，加密市場 24 小時共清算 6.3 億美元，多頭佔 5.21 億美元，空頭為 1.08 億美元。實際上芝商所 (CME) 在過去幾個月以來，未平倉合約 (OI) 皆遠高於幣安 (168K BTC vs. 116 BTC)。因此與加密貨幣價格相關的清算肯定高於 6.3 億美元，CoinGlass 的清算數據並未列入芝商所。交易所清算數據微策略盤前下跌近 10%微策略 (MSTR) 在 3 月 16 日觸及 1,816 美元，刷新 2021 年牛市的前高，但目前已跌至 1,500 美元 (-17.4%)。且 3 月 19 日美股開盤前，MSTR 盤前已下跌 -9.16%。迷因幣領跌、SOL 跌至 170據此前報導，除了 BONK (-21.44%)、FLOKI (-18.56%) 等迷因幣在百大市值中跌幅最深外，SOL 也有 16.5% 跌幅。在短暫站上 200 美元後，SOL 已跌至 173 美元水平。(比特幣跌破66K、以太幣跌破3.5K，迷因幣BOME、SLERF單日跌五成)BTCETH以太幣比特幣 衍伸閱讀10X Research：比特幣跌至63K後繼續漲，競爭幣、迷因幣短期已見頂比特幣一度跌至6.5萬美元，現貨ETF淨流入連兩日低迷\"\\n    },\\n    \"post-95385\": {\\n        \"url\": \"https://abmedia.io/aethir-decentralized-ai-node-sale\",\\n        \"categories\": \"贊助文章\",\\n        \"title\": \"Aethir 點燃去中心化雲端的未來：開始銷售 AI 節點\",\\n        \"content\": \"去中心化 GPU 雲端基礎設施 Aethir 即將開啟節點銷售，為企業級 AI 和遊戲服務的交付方式帶來變革。Aethir 專注於作為服務的 GPU，利用 NVIDIA H100 晶片的能力，提供了一個強大的平台，用於 AI、機器學習和雲端遊戲需求。擁有遊戲和電信巨頭等客戶群的 Aethir，其創新方法結合了技術實力與操作靈活性，希望為雲端計算動態帶來重大轉變。內容目錄Toggle$ATH 代幣提供 DePIN 代幣經濟成為去中心化的門戶：為什麼運行 Aethir 節點？節點銷售詳情$ATH 代幣提供 DePIN 代幣經濟Aethir 希望透過 $ATH 代幣獎勵那些為維護和保護去中心化雲端基礎設施的人來驅動其網路。透過民主化參與，Aethir 確保每個人都有平等的機會參與、驗證並從網路中受益，特別是通過識別和懲罰惡意行為者。(探索去中心化網路的新時代：DePIN 概念深度分析，DePIN 是什麼？)廣告 - 內文未完請往下捲動成為去中心化的門戶：為什麼運行 Aethir 節點？加入 Aethir 成為節點運營商，不僅僅是為了賺取獎勵；首批推出的節點類型 – 檢查節點，可以再驗證網路運營完整性方面發揮關鍵作用。這證明了 Aethir 致力於一個由社群驅動、去中心化的精神，從檢查節點在驗證 Aethir 生態系統內服務的關鍵作用開始。節點銷售詳情銷售數量：100,000 個節點，採用分層定價。銷售平台：透過 Arbitrum 的公開銷售直接購買。鎖倉期：節點在銷售後一年可轉讓，獎勵按照託管計畫發放。無購買上限：可購買任意多的節點，但對早期支持者和社群成員有特別分配。節點銷售期間：2024 年 3 月 20 日，上午 10 點 UTC網路啟動：2024 年第二季度AethirGPUNVIDIA雲端 衍伸閱讀NVIDIA未正確揭露「加密挖礦」對公司收入影響，遭SEC罰款550萬美元以太坊礦池貢獻大量算力，協助分析武漢肺炎病毒及治療方法\"\\n    },\\n    \"post-95351\": {\\n        \"url\": \"https://abmedia.io/utah-judge-denies-secs-motion-to-dismiss-debt-box-case\",\\n        \"categories\": \"政策監理\",\\n        \"title\": \"為了執法不擇手段？SEC訴訟提不實證據遭法官制裁：蓄意誤導、嚴重濫權\",\\n        \"content\": \"聯邦法官於昨日 (18) 裁定，美國證交會 (SEC) 在與加密公司 DEBT Box 的訴訟中提出不實證據，以求對其實施臨時限制令；強調該行為已構成「嚴重濫權」，必須為 DEBT Box 支付所有法律費用。內容目錄Toggle法官指 SEC 嚴重濫權SEC 不實陳述遭打臉SEC 坦承疏失，提終止案件仍遭否決ZK 顧問公司創辦人批：SEC 需要改革SEC 遭指越權並非首次法官指 SEC 嚴重濫權猶他州地方法院法官 Robert Shelby 在週一針對 SEC 訴 DEBT Box 案發布了一項命令，稱 SEC 故意向法院提供不實證據，以確保能對 Debt Box 實施包括資產凍結及接管公司的臨時限制令 (TRO)：SEC 所謂的「關鍵證據」缺乏任何依據，並故意以虛構及誤導性的方式陳述。廣告 - 內文未完請往下捲動並補充，「委員會巧妙利用了其作為聯邦機構的特殊地位，嚴重濫用職權並損害了司法程序的公正性。」對此，Robert 裁定 SEC 律師在訴訟中採取「惡意行為」，命令其須支付 DEBT Box 所有的法律費用作為制裁。\\\\\"The Commission’s above-discussed conduct constitutes a gross abuse of the power entrusted to it by Congress and substantially undermined the integrity of these proceedings and the judicial process… The operation of the American judicial system rests on the fundamental… pic.twitter.com/eBYI8AhJSt— paulgrewal.eth (@iampaulgrewal) March 18, 2024SEC 不實陳述遭打臉據悉，SEC 於去年 8 月對 DEBT Box 提起訴訟，指控其利用虛構的「節點許可證」，向投資者們聲稱能夠從 11 種代幣的挖礦中獲得收益，詐騙至少 4,900 萬美元：我們指控 DEBT Box 及其負責人，在涉及未註冊證券發行的同時，也向投資者們撒謊，謊稱他們從事加密資產挖礦。如今，有關該指控的新聞稿已被刪除。(加密挖礦公司 Digital Licensing 遭 SEC 告，涉五千萬美元詐欺案)SEC 當時聲稱該公司已將資金匯往海外，並可能會逃離美國，要求法院准許對其實施臨時限制令。然而，Robert 在後續的審查中發現了 SEC 的虛假陳述，並指出該公司的資金流動一直都在美國內部。SEC 坦承疏失，提終止案件仍遭否決對此，SEC 在 12 月承認於法庭上發表了不準確的言論，未能達到法院對於坦率的期望，並於隔月提出無條件駁回該訴訟的動議，以求終止該案件。(SEC 申請臨時限制令用騙的？美國猶他法官抨擊 SEC 虛假陳述)然而，法官則在昨日駁回了該動議，批評 SEC 律師 Michael Welsh 持續透過改變說詞，來掩蓋其不當行為。ZK 顧問公司創辦人批：SEC 需要改革ZK 顧問公司創辦人 Austin Campbell 對此表示，該案的 SEC 員工應被解僱，而該機構需要進行改革。For those who were telling me I was being unfair to the @SECGov earlier, please read this entire document.The SEC lied in court, and doubled down when the judge noticed.Why should any American trust the SEC or believe they act in good faith after this? https://t.co/sT4yylrn6s— Austin Campbell (@CampbellJAustin) March 18, 2024SEC 遭指越權並非首次兩週前，美國多州官員也針對 SEC 與 Kraken 訴訟案，聯合提交了法庭之友意見書，強調 SEC 的執法行動正在損害消費者，並無限擴大了「投資合約」的定義：各州強烈反對 SEC 試圖將加密資產列為證券，此舉可能讓未來類似案件優先適用聯邦法律，然而特定州法才更能妥善保護消費者權益。並補充，「SEC 未經授權的權力擴張，將讓消費者面臨風險。」(SEC 與 Kraken 訴訟案引爭議，多州官員聯合指控 SEC 嚴重越權)DEBT BoxDigital LicensingSEC濫權越權 衍伸閱讀SEC申請臨時限制令用騙的？美國猶他法官抨擊SEC虛假陳述加密挖礦公司Digital Licensing遭SEC告，涉五千萬美元詐欺案\"\\n    },\\n    \"post-94950\": {\\n        \"url\": \"https://abmedia.io/slowmist-introduces-various-daas\",\\n        \"categories\": \"資訊安全\",\\n        \"title\": \"牛市加密詐騙猖狂怎麼防？慢霧簡介多項詐騙工具、釣魚路徑\",\\n        \"content\": \"加密牛市不僅為投資者帶來造富效應，對於駭客而言也是豐收季節，近期鏈新聞臉書專頁的貼文，就有詐騙留言大幅增加的現象。資安機構慢霧特別整理各種不同的釣魚手法及詐騙過程，希望加密參與者能更好地防範資安問題。內容目錄ToggleDrainer-as-a-Service (DaaS) 是什麼？加密常見釣魚手法釣魚路徑、詐騙入局手段Drainer-as-a-Service (DaaS) 是什麼？慢霧創辦人余弦指出，DaaS 可以理解為針對加密產業的釣魚工具，知名工具包括：MSPinkAngelPussyVenomMedusaMonkeyInferno作惡者花錢買了上述 Drainers 工具，並結合成千上萬釣魚網站、行銷帳號、各類騙術、漏洞利用、滲透、垃圾廣告等，如洪水猛獸沖般湧進加密產業。廣告 - 內文未完請往下捲動[UPDATE] Crypto 钓鱼常见手法Drainer-as-a-Service (DaaS) 功能：注：DaaS 可以理解为针对 Crypto 行业的钓鱼工具，知名的如 Inferno/MS/Angel/Monkey/Venom/Pink/Pussy/Medusa 等这些 Crypto Drainers，牛鬼蛇神们购买这些 Drainers…— Cos(余弦)😶\\u200d🌫️ (@evilcos) January 19, 2024加密常見釣魚手法余弦列出多種釣魚工具背後的機制：原生簽名利用：eth_sign、personal_sign、eth_signTypedData_* 等，eth_sign 已被眾多錢包封阻。授權函數利用：Token/NFT 中的 approve/permitTX data 4byte 利用：Claim Rewards/Security Update授權簽名：用 Create2 預創建資金接收地址，繞過相關檢測比特幣銘文一鍵批量釣魚，UTXO 機制各 EVM 鏈/Solana/Tron 等切換釣魚釣魚路徑、詐騙入局手段余弦強調「釣魚」是個廣泛概念，手法雖多但基本大同小異，而儘管這些手段已相當氾濫，仍不時有用戶受騙，他呼籲大家勢必要更為謹慎。釣魚路徑包括：Google/X 等廣告投毒、X 評論或私信投毒。駭入官方帳號 (X、Discord、Telegram 等) 發佈釣魚連結。BGP/DNS 等劫持方式，在官網植入惡意代碼。隱蔽的陷阱合約 (貔貅盤、套利陷阱等)。偽造事件/零轉賬等障眼法。硬體錢包售賣渠道被中間人動手腳。誘騙用戶直接「上供」自己的助記詞。偽裝記者、資方、專案方等，誘騙用戶下載中毒文件。余弦最後提到了 ZeroTransfer 詐騙手法，即刻意生成與與用戶頭尾相同的地址、發送小額交易，等待用戶下次誤認此地址並進行轉帳。幣安本身此前也曾遇過類似事件。(ZeroTransfer詐騙！加密錢包地址不能僅看頭尾，趙長鵬CZ提醒：幣安險被騙兩千萬美元 (零 U 地址投毒))DaaSDrainer-as-a-ServiceDrainers釣魚手法釣魚路徑 衍伸閱讀花蓮知名市代會主席捲入虛擬貨幣詐欺風暴，檢警展開全面搜索貝萊德進軍現實世界資產，與Securitize聯手推出代幣化基金\"\\n    },\\n    \"post-95377\": {\\n        \"url\": \"https://abmedia.io/how-to-explore-ethereum-and-l2-with-okx-web3-wallet\",\\n        \"categories\": \"贊助文章\",\\n        \"title\": \"坎昆升級開啟降費時代，如何通過OKX Web3錢包全面探索以太坊和L2生態？\",\\n        \"content\": \"3月13日，據 OKLink 資料顯示，以太坊於區塊高度269568正式啟用Dencun升級，進入Layer2低費用時代。降本增效後，以太坊能否王者歸來？內容目錄Toggle以太坊歷年進展瞭解坎昆升級如何透過OKX Web3錢包全面探索以太坊和L2生態？坎昆升級，為以太坊和L2注入活力以太坊歷年進展以太坊在2015 年7月30日正式上線，開創了智慧合約的新時代，因DeFi和NFT Summer等鏈上應用繁榮發展風光無兩，也因Solana等高效能公鏈的低Gas競爭以及比特幣生態的虹吸效應略顯落寞。儘管以太坊試圖透過2.0版本扭轉局面，但由於技術迭代過程漫長且複雜始，平臺效能短期內始終不盡人意，高昂的Gas費用成為使用者轉移的關鍵原因之一。以太坊擁堵的巨大壓力，直接推動了L2的宏大敘事。Vitalik Buterin開始支援各類擴充套件性解決方案。他在文章裡深刻的寫到，“沒有Layer2和Rollup發展，以太坊將因高額交易成本走向失敗。”如何解決「又貴又堵」的效能問題，成為以太坊當下發展的核心主題。據 OKLink 資料顯示，L2生態TVL呈持續上漲趨勢，L2生態總TVL已高達38.31\\u200aB美元。廣告 - 內文未完請往下捲動Arbitrum、Optimism等主流L2方案都共享了以太坊的安全性，雖然計算轉移到了鏈下，但資料都會交由以太坊節點處理並永久儲存於昂貴的鏈上，這些費用最終都轉移到了使用者身上。所以L2在一定程度上緩解了以太坊交易壓力並降低了Gas，但相對於適應了免費使用的Web2使用者的而言，L2有作用，但作用有限。而坎昆升級的成功，正式開啟了L2降費時代，將重新為L2生態以及以太坊注入新的活力。3月15日，據 OKLink 資料顯示，坎昆升級後Starknet、OP等L2網路手續費暴降90%以上，且其活躍地址、TPS等都有顯著提升。作為行業領先的一站式Web3入口，OKX Web3錢包現已全面支援以太坊和L2生態，為使用者更好的探索鏈上世界提供了重要基礎。數據來源： OKLink瞭解坎昆升級Dencun升級是以太坊執行客戶端Cancun和共識客戶端Deneb兩項升級的簡稱，社區習慣用坎昆升級代指Dencun升級，核心目的在於優化用戶以太坊質押體驗的同時，實現L2的降本增效。坎昆升級包含EIP-1153、EIP-4788、EIP-4844、EIP-5656、EIP-6780、EIP-7044、EIP-7045、EIP-7514和EIP-7516在內的共計9個以太坊改進提案EIP，其中最為核心的是EIP-4844提案，即Proto-Danksharding。EIP-4844提案是完整版分片擴容 Danksharding的基礎，為以太坊引入一種全新的數據存儲結構Blob，將專門用於存儲L2向以太坊提交的交易數據，不再需要競爭 Calldata 的存儲空間，使用戶交易費用更便宜、交易體驗更高效。在以太坊繁榮與高Gas互為矛盾的大背景下，為爭奪有限的區塊資源、導致其變得低效、擁堵、昂貴，飽受市場詬病。此前以太坊 L2 的所有交易都被存儲在以太坊的Calldata中，但Calldata空間有限且其存儲的數據都會被以太坊節點處理並永久存儲於鏈上。據悉，L2網絡80%的交易成本及Gas均來自Calldata數據存儲成本。Blob通過在以太坊上創建額外的臨時數據存儲空間，從而大幅降低L2數據存儲成本、並實現了更高的的交易吞吐量。據 OKLink 數據顯示，當前Arbitrum、Optimism、Starknet、Base等主流L2已紛紛集成EIP-4844，其網絡Gas降幅超90%以上。更多數據可以點擊鏈接查看：https://www.oklink.com/cn/eth/dencun-upgrade\\xa0但值得注意的是，Blob的資料儲存是臨時性的，其可用時間為 4,096 個 Epoch，即大約 18 天。以太坊需要保證的是實時資料可用性而不是資料可檢索性，永久儲存交易資料的價值和意義並不高，Blob定期清除資料可以節省儲存空間，整體上有助於以太坊保持核心競爭力，在公鏈賽道維持甚至奪取更多市場份額。不過被Blob丟棄的部分資料仍存在潛在被呼叫的價值，比如防止節點作惡、公鏈的運營者rug、以及幫助建立逃生艙機制或者強制取款機制等，為此，OKLink 將負責安全儲存所有 blob 資料，確保歷史資料的安全性和可檢索性，以支援以太坊生態系統的健康發展，並可以隨時為對於Blob 資料有需求的個人及公鏈團隊提供服務。此外，EIP-4844 將為 Blob 引入新的費用市場，更利於保持更優的價格。資料儲存結構Blob的引入將在現有基礎幫助以太坊L2大幅降低費用，比如zkSync系首個使用Blob的L2，其排序器成本降低約88%、Starknet實際Gas費低至0.01美元等等，但實際還要取決於L2本身的各種因素。此外，還將幫助L2交易提速10倍甚至100倍。當然，除了EIP-4844外，本次升級還包括EIP-1153、EIP-6780等等。總之，坎昆升級後能鼓勵更多的交易活動，並長遠性地支援L2和以太坊生態發展。如何透過OKX Web3錢包全面探索以太坊和L2生態？坎昆升級後，使用者可以用非常低廉的GAS進行鏈上交易，作為行業領先的一站式Web3入口，OKX Web3錢包現已全面支援以太坊和L2生態，為使用者更好的探索鏈上世界提供了重要基礎。當前OKX Web3 提供完善的以太坊及以太坊二層生態支援，已率先接入Blast、Optimism、Arbitrum、Starknet、zkSync Era、Manta Pacific等等主流L2網路，使用者無需手動配置，可一鍵切換至這些網路進行相應幣種管理。為了提升資金效率，使用者可以透過OKX DeFi板塊與以太坊再質押協議進行互動，“再質押”這一概念由 Eigenlayer 首次提出，即允許使用者將質押在以太坊主網的 ETH 再次透過 Eigenlayer 質押在其他共識協議上。這樣不僅這些協議可以共享以太坊安全性，使用者也可以獲得額外獎勵。OKX Web3 DeFi 推出的“再質押賺幣活動”現已接入多種型別的再質押協議，為使用者提供額外的積分或代幣獎勵。透過“ETH 再質押”、“流動性質押”或“流動性再質押”，使用者可獲得額外獎勵。比如，參與Kelp額外獲得 30% 的積分獎勵、參與Renzo額外獲得 10% 的積分獎勵和高達 20% 的加息獎勵等等。點選連結可以立即參與：https://www.okx.com/cn/web3/defi/activity/8使用者可以透過OKX DEX進行以太坊以及L2資產兌換以及跨鏈，享受鏈上最佳流動性、最優價格、且 0 交易服務費，並輕鬆交易任何資產。目前OKX DEX已支援多個以太二層網路，如 Avalanche C、Arbitrum、Optimism、zkSync Era、Polygon zkEVM、Linea、Base、Mantle、Starknet、Scroll等。OKX DEX是強大的 DEX 和跨鏈聚合器，現已聚合 20 多條跨鏈、20 多條公鏈、400 多個 DEX 等，並同時擁有 DEX 行情板塊、限價單、KYT 安全檢測等功能，還已新增意圖交易模式、幫助使用者享受無 GAS 交易體驗。為了幫助使用者降低進入 Web3 的門檻，減少搜尋成本的同時，利用碎片化的時間也能精準互動。Cryptopedia上線了 zkSync Era等L2等生態互動任務，透過聚合和精選優質 DApps 並設定互動任務，幫助使用者體驗絲滑的鏈上世界的同時，獲得多重獎勵。比如，使用者透過 OKX Cryptopedia 體驗精選 zkSync Era 生態 DApp，可以更好的探索L2生態並獲得獎勵。OKX Cryptopedia 是一站式 DApp 探索和獎勵互動平臺，平臺會定期推出以不同區塊鏈網路為主題的活動，並與相應的合作伙伴一起，共同設定 DApp 互動任務。OKX Discover率先上線Layer2生態探索，以第一時間支援以太坊坎昆升級，幫助使用者快捷安全地參與以太坊和L2生態。此外，為更廣泛的探索以太坊和L2生態、以及發掘並互動熱門DApp，使用者可以透過OKX Discover板塊發現並跳轉熱門DApp，更加簡單、便捷地探索鏈上世界。比如，OKX Discove新增再質押、Solana生態、銘文、Bitcoin生態、必備工具、熱門鏈遊等多個熱點專區，為使用者提供最新最熱門的鏈上動態。此外，使用者可以透過OKX 瀏覽器或者OKLink推出的Dencun 升級專題頁，隨時隨地檢視 Layer2 網路相關資料，包括最直觀的資料，幣價、手續費的降低情況；由手續費、TPS 變動引起的可能引起的發展，TVL、TVB、活躍地址數；以及升級對於以太坊資料帶來的變動等等。此外，還可以檢視ETH完整的發展歷程、升級回顧等等。OKX Web3錢包透過各板塊對以太坊和L2生態協同支援，幫助使用者簡單、安全、高效的探索鏈上世界，成為使用者必不可少的Web3工具。坎昆升級，為以太坊和L2注入活力以太坊開闢了與比特幣點對點電子現金系統差異化路徑。作為全球最大的開源平臺，以太坊首次將智慧合約引入區塊鏈世界，引領了加密行業的發展方向，為去中心化的未來奠定了基礎。以太坊不僅僅是創造了一種加密貨幣，更是一種新型的金融基礎設施，為人們提供了更加自由、安全和開放的交易環境，推動整個行業的創新和進步。作用擁有最大開發者社群的L1，以太坊的正統性仍無法被取代，儘管其因為其擁堵昂貴的效能以及激烈的公鏈賽道競爭陷入「四面楚歌」，但隨著L2以及Rollup等各類擴容方案的創新，必將擔負起承擔主網的巨量交易壓力，為以太坊2.0的到來贏得時間和空間。縱觀迭代歷程，OKX Web3錢包一方面透過支援以太坊和L2生態，助力以太坊社群建設，另外一方面透過連線使用者為以太坊和L2生態帶來巨量的流動性，成為以太坊和L2生態的重要的建設者。OKX Web3錢包現在全面支援以太坊和L2生態，憑藉良好的技術累積和持續的創新性，透過提供最先進的市場工具，極大地降低使用者參與門檻，幫助其一站式玩轉鏈上世界。儘管步履緩慢，但以太坊這個巨大的創造性機器從未停下，從邊境、家園、大都會到寧靜，歷經數次升級和眾多的EIP提案之後，每一步，都距離成為一個可擴充套件、去中心化和全球可訪問的結算層願景越來越近。此外，隨著市場目光從比特幣現貨ETF轉向以太坊現貨ETF，也將為以太坊帶來更多的關注和活力。OKX Web3 衍伸閱讀OKX Wallet｜業界首例BRC-20錢包！OKX Web3多鏈錢包支援BRC-20交易OKX Web3錢包推出無Gas轉帳功能，用戶每日首筆轉帳無Gas Fee\"\\n    },\\n    \"post-95346\": {\\n        \"url\": \"https://abmedia.io/gpif-to-seek-information-on-business-diversification-including-btc\",\\n        \"categories\": \"政策監理、比特幣\",\\n        \"title\": \"採多元化投資戰略，日本政府養老基金GPIF考慮納入比特幣、黃金\",\\n        \"content\": \"內容目錄Toggle日本政府養老投資基金 GPIFGPIF 考慮納入比特幣、黃金日本政府養老投資基金 GPIFGPIF (Government Pension Investment Fund) 是由日本政府設立的法人行政機構 (獨立行政機構)，是世界上最大的退休投資基金，也是日本資產規模最大的公共基金投資者。GPIF 目前廣泛投資於境內外股票、債券等傳統資產，以及基礎建設、房地產等另類資產。2023 年數據顯示，GPIF 規模達 1.5 兆美元，其次為挪威政府全球養老基金 (Government Pension Fund Global) 的 1.3 兆美元。廣告 - 內文未完請往下捲動GPIF 考慮納入比特幣、黃金據日本彭博報導，GPIF 於 19 日宣布，將尋求多元化投資的相關資訊，例如非流動資產包括比特幣、黃金、林地及農地等。除了解特定資產的基礎知識外，GPIF 還會尋求海外退休基金如何將這些資產納入投資組合中的實際案例。GPIF 的聲明並不代表未來確定會擴大投資標的，而是會根據搜集的資訊來考慮是否將進行下一步研究。GPIF比特幣 衍伸閱讀加密市場清算6億美元，比特幣跌破63K，以太幣跌幅已達兩成Matrixport建議做空ETH；10X Research下看比特幣至5.9萬美元\"\\n    },\\n    \"post-95334\": {\\n        \"url\": \"https://abmedia.io/solana-meme-coin-presale-boom\",\\n        \"categories\": \"交易市場\",\\n        \"title\": \"推特貼文吸金上億鎂：迷因幣預售潮 27 種 Solana 迷因幣募 1.22 億美金\",\\n        \"content\": \"近期 Solana 鏈出品的迷因幣造成搶購炫風，Solana 上的迷因幣 Book of Meme (BOME) 在所有迷因幣中，交易量占據第一，更勝 DOGE 這個始祖迷因幣。當前市場的迷因幣狂熱，早已經不是以太坊的專利 ; 從交易量來看，BOME、dogwifhat (WIF)、BONK、MYRO、LADYS 都是榜上有名的 Solana 迷因，顯示 Solana 在迷因幣社群的強勢。也有一說認為是迷因幣帶動了 SOL 的強勢上漲。(SOL 突破 200美元、市值創新高，迷因幣發幣熱潮席捲 Solana)廣告 - 內文未完請往下捲動內容目錄Toggle迷因預售潮，吸金上億美金迷因幣可能面臨頂峰迷因預售潮，吸金上億美金以 BOME 為例，其創作者 @Darkfarms1 就透過推特「預售」迷因幣，募集了 10,132 個 SOL (約 200 萬美元)。鏈上偵探 Zach 彙整了所有在推特上進行預售的迷因幣，在 27 個迷因幣專案中，共募集 65 萬多個 SOL (約 1.22 億美元)。有趣的是，其中還有多數募集大量資金的迷因幣專案，仍未發幣 (不存在代幣合約地址)。迷因幣可能面臨頂峰有專家觀察，熱衷迷因幣交易的韓國交易所，其迷因幣交易量已經開始大幅下滑 ; 整體交易量也同步下降，可能是迷因幣熱潮頂峰。(炒股不如炒幣，韓國加密貨幣交易量直逼股票交易市場)I was interested to see how much SOL has been sent as a result of the presale meta and calculated >655,000 SOL ($122.5M) raised from 27 presales. pic.twitter.com/dvsW4TSoov— ZachXBT (@zachxbt) March 19, 2024數位藝術家 Beeple 也作畫來回應這個用「預售」來販賣迷因幣的熱潮：PRESALE SEASON pic.twitter.com/qQPbVJJtdS— beeple (@beeple) March 18, 2024Solana推特迷因幣預售 衍伸閱讀SOL突破200美元、市值創新高，迷因幣發幣熱潮席捲Solana迷因幣Book of Meme (BOME) 24小時漲五倍，一地址兩天賺進430萬美元\"\\n    },\\n    \"post-95332\": {\\n        \"url\": \"https://abmedia.io/net-outflow-of-154m-on-18-march-for-bitcoin-etfs\",\\n        \"categories\": \"比特幣\",\\n        \"title\": \"比特幣現貨ETF連十天淨流入中斷，GBTC淨流出創紀錄\",\\n        \"content\": \"內容目錄Toggle比特幣現貨 ETF 結束 10 日淨流入灰度 GBTC 淨流出創新高比特幣現貨 ETF 結束 10 日淨流入比特幣 ETF 在 3 月 18 日中淨流出 1.54 億美元。上一次的淨流出是在 3 月 1 日 (-1.39 億美元)，這也代表 ETF 中斷了連續 10 日的淨流入。自 1 月 11 日上市以來，比特幣現貨 ETF 總淨流入自上週約 121 億美元，降至 120 億美元。廣告 - 內文未完請往下捲動\\xa0各家發行商在 3 月 18 日淨流入數據如下：灰度 GBTC：-6.42 億美元貝萊德 IBIT：4.51 億美元富達 FBTC：590 萬美元Bitwise BITB：1,760 萬美元Vaneck HODL：570 萬美元Valkyrie BRRR：480 萬美元方舟 ARKB：270 萬美元灰度 GBTC 淨流出創新高灰度 GBTC 在 3 月 18 日仍是淨流出主力 (-6.42 億美元)，高於貝萊德的淨流入。SoSoValue 數據顯示，GBTC 在 18 日淨流出 -6.42 億美元已刷新了歷史新高。GBTC 前五大流出日如下：3 月 18 日：-6.42 億美元1 月 22 日：-6.4 億美元2 月 29 日：-5.98 億美元1 月 16 日：-5.94 億美元1 月 19 日：-5.9 億美元GBTC 淨流出數據此前報導，Matrixport 分析師、分析機構 10X Research 創辦人 Markus Thielen 曾強調，18 日、19 日的 ETF 數據相當關鍵，顯然比特幣並未交出好成績。他預測若 ETF 流入不如預期，比特幣可能跌至 5,9000 美元。(Matrixport建議做空ETH；10X Research下看比特幣至5.9萬美元)GBTC比特幣現貨 ETF 衍伸閱讀比特幣一度跌至6.5萬美元，現貨ETF淨流入連兩日低迷香港業者呼籲儘快批准虛擬資產現貨 ETF，以免幫美資抬轎\"\\n    },\\n    \"post-95312\": {\\n        \"url\": \"https://abmedia.io/okx-delists-usdt-pairs-tether-europe\",\\n        \"categories\": \"政策監理\",\\n        \"title\": \"歐盟加密法案MiCA發威！OKX下架歐洲地區USDT交易對，Circle捷足先登？\",\\n        \"content\": \"據 OKX 向用戶發送的信件內容指出，近日已下架與 USDT 相關的所有交易對，目前的 USDT 僅能用以支援 EUR 與 USDC 交易對的現貨交易。外界對此普遍認為，此舉與即將生效的歐盟加密法案 (MiCA) 有關。內容目錄ToggleOKX 下架歐洲區域 USDT 交易對歐盟加密法案 MiCA 生效在即Circle 領先 Tether？OKX 下架歐洲區域 USDT 交易對用戶 MartyParty 在昨日發推透露，加密貨幣交易所 OKX 已停止支援歐盟及歐盟經濟區 (EEA)，有關 Tether 所發行的美元穩定幣 USDT 的絕大多數交易對。Breaking: @Tether_to $USDT pairs have been removed by @okx in the EU 👀Only $EUR and $USDC @circle pairs now allowed. Huge news. pic.twitter.com/E1HNHRaLkB— MartyParty (@martypartymusic) March 18, 2024如圖，OKX 在一封寄給當地用戶的信件中表示：廣告 - 內文未完請往下捲動請注意，由於監管要求，您目前所在地區的 USDT 交易對已無法再交易。未來，現貨市場上唯一可用的 USDT 貨幣交易對僅有 USDT/EUR 及 USDT/USDC。並補充，「USDT 仍能進行存提款，並在場外交易 (OTC) 中購買或出售。」OKX 在信中也提到，此舉僅會影響少部分用戶，而未來將把焦點放在擴大歐元兌加密貨幣的流動性：與此同時，我們也將推出 30 多個全新的歐元現貨交易對。截至目前，OKX 及 Tether 對此仍未作出回應。歐盟加密法案 MiCA 生效在即外界推測，OKX 上述的監管原因，可能與《加密資產市場法 MiCA》監管框架中的穩定幣規範有關。法規指出，僅有電子貨幣機構 (EMI) 及信貸機構才能夠發行穩定幣。據悉，該法將於今年年底前生效，而穩定幣法規則預計在 6 月前施行。(歐盟加密法案 MiCA 即將生效，Binance 警告穩定幣可能大規模下架)於此，Tether 作為當前穩定幣市值超過 1 千億美元的發行商，其儲備透明度與監管合規性一直備受討論及放大檢視。另一方面，美國也即將出台具體的穩定幣法案，為包括 Tether 及 Circle 等眾多穩定幣發行商，提供一致的 KYC 及反洗錢等監管標準。Circle 領先 Tether？去年 12 月，穩定幣市值規模僅次於 USDT 的發行商 Circle (USDC)，搶先 Tether 獲得法國金融市場管理局 (AMF) 所提供，有關數位資產服務提供商 (DASP) 的條件性註冊，並在後續申請了 EMI 許可證。(Circle已獲法國數位資產服務提供商 (DASP) 條件性註冊，強化歐洲合規發展)就歐洲穩定幣市場的監管面而言，Circle 所發行的歐元穩定幣 EURC 的確正處於領先階段。然而，歐元穩定幣市場仍屬早期，其他競爭者除了 Tether 所發行的 EURT 外，還包括法國銀行三巨頭法國興業銀行 (Societe Generale) 所推出的穩定幣 EURCV (EUR CoinVertible)\\xa0等。Circle（USDC）MiCAOKXTether（USDT）歐元穩定幣歐洲穩定幣 衍伸閱讀Circle已獲法國數位資產服務提供商 (DASP) 條件性註冊，強化歐洲合規發展Conio與Coinbase合作，為義大利金融機構提供數位資產流動性\"\\n    },\\n    \"post-95324\": {\\n        \"url\": \"https://abmedia.io/boj-ends-negative-rate-policy\",\\n        \"categories\": \"傳統金融、政策監理\",\\n        \"title\": \"日本央行正式結束負利率，比特幣兌日圓還能創新高嗎？\",\\n        \"content\": \"日本央行 (BOJ) 宣布正式結束負利率政策，17 年來首次升息，將基準利率從-0.1%上調至 0% 至 0.1% 的區間，同時也取消了殖利率曲線控制政策。政策宣布後，日股上漲，日幣仍走貶，比特幣兌日圓還能創新高嗎？內容目錄Toggle日股上漲，日幣仍走貶比特幣兌日圓還能創新高嗎？日股上漲，日幣仍走貶日經 225 指數今日收在四萬點以上，上漲 0.66%。日本股市在經歷了數十年的低迷後，終於在二月突破 1989 年的高點，3/6 盤中曾創高到 40,472 。(日本股市突破歷史新高，波克夏投資五大商社大賺 80 億美元)廣告 - 內文未完請往下捲動不過雖然日本終結自 2016 年 2 月實施的負利率政策，但與美元間的利差仍有 5% 以上的差距，美元兌日幣 (USDJPY) 僅在公布後短暫下跌，隨後又一路上行，截稿前報 150.36。日幣的走勢仍顯疲軟。比特幣兌日圓還能創新高嗎？由於日幣長期處於負利率，被投資人做為利差交易 (carry trade) 的工具，比特幣兌日圓早在二月就創下歷史新高 (當時比特幣兌美元仍在 52K) 。如今日本終於結束負利率時代，日本股市不斷上漲，再加上日本企業薪資和國內物價同步上漲，日幣是否能從此擺脫貶值的命運，慢慢回到正軌呢？註：利差交易 (carry trade) 指在低利率的國家 (比如日本) 借錢，換成較高利率國家 (如美國) 的貨幣，以賺取利差。(比特幣兌日圓創歷史新高，日本GDP被德國超車，痛失第三大經濟體寶座)BOJUSDJPY利差交易 衍伸閱讀央行貨幣實驗進展順利，日本央行決定在4月啟動CBDC試驗計劃央行數位貨幣試驗持續進行，但日本央行不考慮實施主要因素：現金為王\"\\n    },\\n    \"post-95305\": {\\n        \"url\": \"https://abmedia.io/bitcoin-correction-may-continue\",\\n        \"categories\": \"以太坊、比特幣\",\\n        \"title\": \"Matrixport建議做空ETH；10X Research下看比特幣至5.9萬美元\",\\n        \"content\": \"Matrixport 與分析機構 10X Research 創辦人 Markus Thielen 在短期內分別不看好 ETH 與 BTC 的價格走勢。內容目錄ToggleMatrixport：建議空 ETH 對沖 BTC10X Research：比特幣 ETF 流量成關鍵比特幣可能跌至 5,9000 美元Matrixport：建議空 ETH 對沖 BTCMatrixport 推文表示，與此前分析相同，以太坊 Gas 費用持續下降表明 ETH 正失去上漲動能。此外以太坊現貨 ETF 批准與否仍存在爭議，在 Dencun 升級後，一個重要的 (利多) 催化劑已不復存在，因此我們建議以開空 ETH 對沖任何比特幣多單。廣告 - 內文未完請往下捲動Matrixport 的立場與渣打稍早釋出的分析截然不同。(渣打：以太坊現貨 ETF 仍可能在五月批准，ETH 年底上看 8000 鎂)As we showed a week ago and also in our Matrix on Target report, #Ethereum is losing upside momentum as indicated by the drop in gas fees. We also warned that the Ethereum ETF approval is at odds and after the Dencun upgrade, an important catalyst has been removed. This made us… pic.twitter.com/4dJbQGfozY— Matrixport (@realMatrixport) March 19, 202410X Research：比特幣 ETF 流量成關鍵Matrixport 分析師、分析機構 10X Research 創辦人 Markus Thielen，在最新報告中仍看好 BTC 後勢，但 ETF 流量與價格支撐會是關鍵。Farside Investors 數據顯示，上週五天的比特幣淨流入分別為：3/11：5.05 億美元3/12：10.45 億美元3/13：6.83 億美元3/14：1.32 億美元3/15：1.98 億美元最後兩日的淨流入被許多分析視為比特幣週末下跌的原因之一。比特幣可能跌至 5,9000 美元CoinDesk 引用 Markus Thielen 的報告指出，其認為比特幣雖然在 67,000 美元水平，但真正的考驗是週一與週二的美股開盤時間，若 ETF 流入不如預期，比特幣可能會持續下調。他表示：雖然這種說法不討喜，但價格經歷大幅波動後，預計資金流入將放緩，根據我們的反轉指標，回調至 59,035 美元的可能性似乎更大，這表明 BTC 價格將再下跌 10%。(10X Research：比特幣跌至63K後繼續漲，競爭幣、迷因幣短期已見頂)10x researchETF比特幣 衍伸閱讀10X Research：比特幣跌至63K後繼續漲，競爭幣、迷因幣短期已見頂比特幣觸及 65K！10x Research：本週比特幣將突破歷史高點\"\\n    },\\n    \"post-95301\": {\\n        \"url\": \"https://abmedia.io/nvidia-gtc-jensen-huang-bring-ai-robot\",\\n        \"categories\": \"商業應用\",\\n        \"title\": \"輝達打造人形機器人通用模型 GR00T ，為 AI 機器人鋪路\",\\n        \"content\": \"輝達 (NVIDIA) 年度 GTC 大會正式揭幕，執行長黃仁勳 (Jensen Huang) 展示專為人形機器人所設計的通用基礎模型 Project GR00T，現場並請出了機器人大軍共襄盛舉，為 AI 機器人的時代揭開序幕。根據 TechCrunch 的報導，NVIDIA 在 GTC 大會中宣布了人工智慧平台 GR00T創辦人黃仁勳表示：廣告 - 內文未完請往下捲動為通用人形機器人建立基礎模型，是當今人工智慧領域最令人興奮的事情之一！輝達正在為最近進入該產業的公司建立一個人工智慧平台，合作公司包括 1X Technologies、Agility Robotics、Apptronik、Boston Dynamics、Figure AI、Fourier Intelligence、Sanctuary AI、Unitree Robotics 和 XPENG Robotics 等公司。這幾乎涵蓋了目前所有著名的人形機器人製造商，除了特斯拉之外。其中 Figure AI 的人形機器人使用 OpenAI 模型，背後金主包括微軟、OpenAI、輝達、 英特爾資本 (Intel Capital) 以及貝佐斯 (Jeff Bezos)家族辦公室。上週機器人與人類的互動影片也引發了大眾的注目。而影片中黃仁勳請出的迪士尼研究工作室 BDX 機器人——小綠和小橘，就用超萌的樣態在台上與黃仁勳互動。AI 機器人NVIDIA輝達 衍伸閱讀台積電秒填息，受惠輝達 AI 訂單，2023 賺贏南韓十大企業總和輝達 (Nvidia) 財報再度超乎預期，AI 幣同慶\"\\n    },\\n    \"post-95306\": {\\n        \"url\": \"https://abmedia.io/fidelity-eth-etf-amendent\",\\n        \"categories\": \"以太坊、傳統金融\",\\n        \"title\": \"華爾街入場質押 ETH？富達投資修訂 ETF 申請，期望開放以太幣質押\",\\n        \"content\": \"富達投資 (Fidelity Investment) 對其以太幣 ETF 的申請進行重大修訂，更新增加了一項突破性功能：質押加密貨幣的能力，這代表傳統金融與日益興起的加密貨幣世界交會的關鍵時刻。內容目錄Toggle富達質押以太幣，以太幣 ETF 紅利多更多質押龍頭 Lido 有可能被傳金機構趕上？\\xa0富達從比特幣擴張到以太幣華爾街入場質押以太幣影響安全性？富達質押以太幣，以太幣 ETF 紅利多更多根據 3 月 18 日富達投資最近一次修訂揭露的細節，富達將進軍以太幣質押。檔案說明說：「發起人 (sponsor) 可以逐次透過一個或多個可信質押服務提供者 (可能包括發起人的關聯方) 質押基金的部分資產 (質押提供者)。」此政策是為了重新定義投資者透過富達與加密貨幣互動的方式，投資者可以基於以太幣質押獎勵獲得潛在收入。廣告 - 內文未完請往下捲動質押龍頭 Lido 有可能被傳金機構趕上？\\xa0Lido 作為質押服務提供者中的佼佼者，目前管理著高達 350 億美元的以太幣，顯示質押服務的巨大潛力和吸引力。富達若能成功進場質押服務，有可能影響以太坊自身的生態系統。富達從比特幣擴張到以太幣自從 1 月份獲得其比特幣現貨 ETF 的批准以來，富達並未止步。這家金融巨頭成功吸納了約 132,570 比特幣，資產總值超過 90 億美元。此次擴展到以太幣領域，特別是透過質押，顯示富達致力於多元化其加密貨幣產品，並為其客戶提供創新解決方案的承諾。華爾街入場質押以太幣影響安全性？質押涉及參與在證明權益 (PoS) 區塊鏈上，如以太坊的交易驗證，這個過程不僅支持網路的安全和效率，還為參與者提供獎勵。輿論認為，富達進入以太幣質押可能對網路產生深遠的影響，可能促使其運作和治理發生重大變化。總之，富達對其以太幣 ETF 進行修訂，包括可開放質押，不僅僅是一次簡單的更新，而是可能更近一步融合傳統金融和加密貨幣領域。ETFETH以太幣富達質押 衍伸閱讀BTC觸及6.8萬美元，比特幣ETF交易量創次高，資產規模超過黃金ETF五成Michael Saylor：比特幣現貨ETF的需求是供應量的10倍、將持續購入比特幣\"\\n    },\\n    \"post-95309\": {\\n        \"url\": \"https://abmedia.io/google-is-collaborating-with-apple-to-launch-geminiphone\",\\n        \"categories\": \"商業應用\",\\n        \"title\": \"傳言 Google 與 Apple 合作發展 AI，將 Gemini 導入 iPhone\",\\n        \"content\": \"根據彭博報導，市場傳言 Google 將與 Apple 合作，將前者旗下的 Gemini 模型導入 iPhone，快速提升現有 iOS 生態的 AI 發展，消息一出 Google 股價一度上漲 7%。內容目錄Toggle傳言 Google 與 Apple 合作推 AI 服務Google、Apple AI 發展遇瓶頸可能合作推出 GeminiPhoneGoogle 股價上漲傳言 Google 與 Apple 合作推 AI 服務Google、Apple AI 發展遇瓶頸彭博分析師認為 Apple 股價最近成長緩慢的其中一個原因，出自於其 AI 發展計畫不明確，在自家 AI 產品與技術推出之前，需要一個短期的解決方案填補市場缺口。另一方面，Google 近期旗下的 AI 圖像生成器 Gemini 出包，出現許多嚴重的圖像生成偏差，例如將教皇的圖像繪製成亞洲女性的臉孔，受到市場嚴厲的批評。廣告 - 內文未完請往下捲動且除了圖像生成，Google 的 AI 工具在大幅優化搜尋產品之前，也極需要一個立即可落地的應用場景。因此 Google 近期推出的相關AI 產品線多元複雜。(文字或圖片就能創造遊戲？Google 推出生成式互動環境 AI 模型「Genie」)Google AI 產品線發展圖 (資料來源)因此，雖然 Google 與 Apple 在 AI 領域上一直是競爭對手，但是雙方高層似乎認為本次合作可以作為這些問題的短期解決方案。可能合作推出 GeminiPhone根據彭博報導，市場傳言 Google 將與 Apple 合作，將 Gemini 整合至 iOS 18，讓用戶可以在 iPhone 等內建服務上直接使用 Gemini 的功能，市場稱之為「GeminiPhone」。這在雙方的利益之下是合理的選項。分析師認為 Google 過往花費鉅額預算讓自家搜尋引擎在 Apple 裝置中作為預設選項，而非限定於自家 Android 裝置，可看出該公司對於追求規模化的策略，同理適用於 Gemini 的推廣。而 Apple 雖然想要發展自家的人工智慧產品，但是目前缺乏現有的大型訓練模型，相對其他競爭者落後，短期的合作可以滿足開發者的需求。Google 股價上漲似乎受到此消息的刺激，昨日美股 Google 股價一度開盤上漲 7%，最終以 4.6% 漲幅收盤。Apple 則微幅上漲 0.5%。AIAppleGeminiGoogleiOS 18 衍伸閱讀文字或圖片就能創造遊戲？Google 推出生成式互動環境 AI 模型「Genie」Reddit 與 Google 簽署合作關係，提供內容供 Google 訓練 AI 模型\"\\n    },\\n    \"post-95296\": {\\n        \"url\": \"https://abmedia.io/bitcoin-just-hit-9k-on-bitmex\",\\n        \"categories\": \"CeFi、交易市場\",\\n        \"title\": \"比特幣現貨「XBT／USDT」一度跌至8,900美元，BitMEX回應：調查中\",\\n        \"content\": \"內容目錄ToggleBitMEX 比特幣價格跌至 8,900 美元BitMEX：調查中、未禁用出金BitMEX 比特幣價格跌至 8,900 美元數據顯示，BitMEX 現貨交易對 XBT／USDT 價格在台灣時間 3 月 19 日 06:30 跌至 8,900 美元 (-86.73%)。約半小時後才恢復至 65,000 美元水平。XBT／USDT 週線｜BitMEXBitMEX：調查中、未禁用出金推特用戶 @syq 指出，有交易者在兩個小時內以 10 – 50 枚分批拋售了 400 多枚 BTC，導致價格滑點超過 30% 以上，且\\xa0BitMEX 已暫停用戶出金。廣告 - 內文未完請往下捲動對此 BitMEX 解釋，並未對所有用戶停用提款，而僅對接受調查的少數帳戶禁用。BitMEX 回覆稱：正調查過去幾個小時內用戶在 BTC\\xa0 現貨市場上出售大額訂單的異常活動，這不會影響 BitMEX 的任何衍生性商品市場，也不會影響 XBT 衍生性合約的指數價格，交易平台運作正常，所有資金是安全的。Someone just dumped 400+ BTC over 2 hours in 10-50 BTC clips on the XBTUSDT pair on Bitmex eating 30%+ slippage. They must\\'ve lost $4m+ at least. pic.twitter.com/g64NRQ4h5a— syq (@syq) March 18, 2024BitMEXXBT比特幣現貨 衍伸閱讀BitMEX舉辦台灣首場《量化交易入門工作坊》，打造牛市「實戰」交易策略Ordinals錢包Oyl已完成300萬美元融資，BitMEX創辦人Arthur Hayes參投\"\\n    }\\n}'"
            ]
          },
          "execution_count": 9,
          "metadata": {},
          "output_type": "execute_result"
        }
      ],
      "source": [
        "articles_info_json"
      ]
    },
    {
      "cell_type": "markdown",
      "metadata": {
        "id": "WAx_4-mnO9vg"
      },
      "source": [
        "# GPT generates summary"
      ]
    },
    {
      "cell_type": "code",
      "execution_count": 10,
      "metadata": {
        "colab": {
          "base_uri": "https://localhost:8080/"
        },
        "id": "ca8VMbfCXaH3",
        "outputId": "44561dad-d915-4dbd-912b-2d15286ce6ba"
      },
      "outputs": [
        {
          "name": "stdout",
          "output_type": "stream",
          "text": [
            "Requirement already satisfied: openai in /usr/local/lib/python3.10/dist-packages (1.14.2)\n",
            "Requirement already satisfied: anyio<5,>=3.5.0 in /usr/local/lib/python3.10/dist-packages (from openai) (3.7.1)\n",
            "Requirement already satisfied: distro<2,>=1.7.0 in /usr/lib/python3/dist-packages (from openai) (1.7.0)\n",
            "Requirement already satisfied: httpx<1,>=0.23.0 in /usr/local/lib/python3.10/dist-packages (from openai) (0.27.0)\n",
            "Requirement already satisfied: pydantic<3,>=1.9.0 in /usr/local/lib/python3.10/dist-packages (from openai) (2.6.4)\n",
            "Requirement already satisfied: sniffio in /usr/local/lib/python3.10/dist-packages (from openai) (1.3.1)\n",
            "Requirement already satisfied: tqdm>4 in /usr/local/lib/python3.10/dist-packages (from openai) (4.66.2)\n",
            "Requirement already satisfied: typing-extensions<5,>=4.7 in /usr/local/lib/python3.10/dist-packages (from openai) (4.10.0)\n",
            "Requirement already satisfied: idna>=2.8 in /usr/local/lib/python3.10/dist-packages (from anyio<5,>=3.5.0->openai) (3.6)\n",
            "Requirement already satisfied: exceptiongroup in /usr/local/lib/python3.10/dist-packages (from anyio<5,>=3.5.0->openai) (1.2.0)\n",
            "Requirement already satisfied: certifi in /usr/local/lib/python3.10/dist-packages (from httpx<1,>=0.23.0->openai) (2024.2.2)\n",
            "Requirement already satisfied: httpcore==1.* in /usr/local/lib/python3.10/dist-packages (from httpx<1,>=0.23.0->openai) (1.0.4)\n",
            "Requirement already satisfied: h11<0.15,>=0.13 in /usr/local/lib/python3.10/dist-packages (from httpcore==1.*->httpx<1,>=0.23.0->openai) (0.14.0)\n",
            "Requirement already satisfied: annotated-types>=0.4.0 in /usr/local/lib/python3.10/dist-packages (from pydantic<3,>=1.9.0->openai) (0.6.0)\n",
            "Requirement already satisfied: pydantic-core==2.16.3 in /usr/local/lib/python3.10/dist-packages (from pydantic<3,>=1.9.0->openai) (2.16.3)\n"
          ]
        }
      ],
      "source": [
        "! pip install openai"
      ]
    },
    {
      "cell_type": "code",
      "execution_count": 11,
      "metadata": {
        "id": "pYXVWEUrXsuw"
      },
      "outputs": [],
      "source": [
        "import openai"
      ]
    },
    {
      "cell_type": "code",
      "execution_count": 12,
      "metadata": {
        "id": "anxbS4fMTeFQ"
      },
      "outputs": [],
      "source": [
        "api_key = \"API_KEY\"\n",
        "prompt = \"你現在為一位專業的加密貨幣投資經理人，稍後會提供給你今日區塊鏈新聞內容，請基於這些給出一個整體的綜合摘要，並且以列點式呈現，以及給出一個整體市場趨勢建議\"\n",
        "\n",
        "response = requests.post(\n",
        "    'https://api.openai.com/v1/chat/completions',\n",
        "    headers = {\n",
        "        'Content-Type': 'application/json',\n",
        "        'Authorization': f'Bearer {api_key}'\n",
        "    },\n",
        "    json = {\n",
        "        'model': 'gpt-4-0125-preview',\n",
        "        'messages' : [{\"role\": \"user\", \"content\": prompt},\n",
        "                      {\"role\": \"system\",\"content\":\"當然可以，我已經準備好了。請提供今日區塊鏈新聞內容，我將根據這些信息給出整體的綜合摘要和市場趨勢建議。\"},\n",
        "                      {\"role\": \"user\", \"content\": articles_info_json}\n",
        "                      ],\n",
        "        'max_tokens': 2000, # 指定生成的文本最大長度\n",
        "        'temperature': 0.7\n",
        "    }\n",
        "    )"
      ]
    },
    {
      "cell_type": "code",
      "execution_count": 13,
      "metadata": {
        "colab": {
          "base_uri": "https://localhost:8080/"
        },
        "id": "4Zngfa00zjut",
        "outputId": "ab440ea3-0416-4719-a145-f135117d0602"
      },
      "outputs": [
        {
          "data": {
            "text/plain": [
              "{'id': 'chatcmpl-94h6DQ1OGSITTRaY6TK6ajOAHDgi9',\n",
              " 'object': 'chat.completion',\n",
              " 'created': 1710906013,\n",
              " 'model': 'gpt-4-0125-preview',\n",
              " 'choices': [{'index': 0,\n",
              "   'message': {'role': 'assistant',\n",
              "    'content': '根據提供的區塊鏈新聞內容，以下是一個整體的綜合摘要：\\n\\n- 比特幣與以太幣價格大幅下跌，加密市場清算達6.3億美元，SOL也出現重大跌幅。\\n- Aethir推出去中心化的AI節點銷售，旨在改變企業級AI和遊戲服務的交付方式。\\n- SEC在與DEBT Box的訴訟中提出不實證據，被法官裁定為「嚴重濫權」。\\n- 慢霧介紹多項釣魚手法與詐騙工具，提醒加密參與者加強防範。\\n- OKX Web3錢包支持以太坊和L2生態，促進低費用時代的到來。\\n- 日本政府養老基金GPIF考慮納入比特幣與黃金作為投資標的。\\n- 迷因幣預售潮在Solana生態中引起熱烈反響，募集超過1.22億美元。\\n- 比特幣現貨ETF出現淨流出，GBTC淨流出創紀錄。\\n- OKX下架歐洲地區USDT交易對，可能與即將生效的歐盟加密法案MiCA有關。\\n- 日本央行結束負利率政策，對比特幣兌日圓價格的影響仍待觀察。\\n- Matrixport建議做空ETH，而10X Research預測比特幣可能進一步下跌。\\n- 輝達介紹針對人形機器人的通用基礎模型Project GR00T。\\n- 富達投資修訂以太幣ETF申請，期望開放以太幣質押。\\n- 傳言Google與Apple合作開發AI，將Gemini模型導入iPhone。\\n- 比特幣在BitMEX一度跌至8,900美元，BitMEX正在調查該異常活動。\\n\\n整體市場趨勢建議：\\n1. 密切關注主要加密貨幣（如比特幣、以太幣）的價格走勢及相關新聞，留意市場情緒和可能的回調機會。\\n2. 關注歐盟加密法案MiCA的發展及其對加密市場的影響，特別是對穩定幣和加密交易所的潛在影響。\\n3. 考慮迷因幣和其他新興加密資產的投資風險和機會，但需謹慎評估其波動性和可持續性。\\n4. 探索加密貨幣質押和DeFi應用的潛力，尋找穩定收益的機會，但同時注意相關風險。\\n5. 關注技術巨頭（如Google、Apple）與加密貨幣和區塊鏈技術的合作發展，以及這些合作對市場的潛在影響。'},\n",
              "   'logprobs': None,\n",
              "   'finish_reason': 'stop'}],\n",
              " 'usage': {'prompt_tokens': 21055,\n",
              "  'completion_tokens': 982,\n",
              "  'total_tokens': 22037},\n",
              " 'system_fingerprint': 'fp_31c0f205d1'}"
            ]
          },
          "execution_count": 13,
          "metadata": {},
          "output_type": "execute_result"
        }
      ],
      "source": [
        "# use json to parse text\n",
        "response.json()"
      ]
    },
    {
      "cell_type": "code",
      "execution_count": 14,
      "metadata": {
        "colab": {
          "base_uri": "https://localhost:8080/"
        },
        "id": "M5T-Aq4fzeL2",
        "outputId": "0c6f365f-a491-4d28-8686-cfc98fb15441"
      },
      "outputs": [
        {
          "name": "stdout",
          "output_type": "stream",
          "text": [
            "根據提供的區塊鏈新聞內容，以下是一個整體的綜合摘要：\n",
            "\n",
            "- 比特幣與以太幣價格大幅下跌，加密市場清算達6.3億美元，SOL也出現重大跌幅。\n",
            "- Aethir推出去中心化的AI節點銷售，旨在改變企業級AI和遊戲服務的交付方式。\n",
            "- SEC在與DEBT Box的訴訟中提出不實證據，被法官裁定為「嚴重濫權」。\n",
            "- 慢霧介紹多項釣魚手法與詐騙工具，提醒加密參與者加強防範。\n",
            "- OKX Web3錢包支持以太坊和L2生態，促進低費用時代的到來。\n",
            "- 日本政府養老基金GPIF考慮納入比特幣與黃金作為投資標的。\n",
            "- 迷因幣預售潮在Solana生態中引起熱烈反響，募集超過1.22億美元。\n",
            "- 比特幣現貨ETF出現淨流出，GBTC淨流出創紀錄。\n",
            "- OKX下架歐洲地區USDT交易對，可能與即將生效的歐盟加密法案MiCA有關。\n",
            "- 日本央行結束負利率政策，對比特幣兌日圓價格的影響仍待觀察。\n",
            "- Matrixport建議做空ETH，而10X Research預測比特幣可能進一步下跌。\n",
            "- 輝達介紹針對人形機器人的通用基礎模型Project GR00T。\n",
            "- 富達投資修訂以太幣ETF申請，期望開放以太幣質押。\n",
            "- 傳言Google與Apple合作開發AI，將Gemini模型導入iPhone。\n",
            "- 比特幣在BitMEX一度跌至8,900美元，BitMEX正在調查該異常活動。\n",
            "\n",
            "整體市場趨勢建議：\n",
            "1. 密切關注主要加密貨幣（如比特幣、以太幣）的價格走勢及相關新聞，留意市場情緒和可能的回調機會。\n",
            "2. 關注歐盟加密法案MiCA的發展及其對加密市場的影響，特別是對穩定幣和加密交易所的潛在影響。\n",
            "3. 考慮迷因幣和其他新興加密資產的投資風險和機會，但需謹慎評估其波動性和可持續性。\n",
            "4. 探索加密貨幣質押和DeFi應用的潛力，尋找穩定收益的機會，但同時注意相關風險。\n",
            "5. 關注技術巨頭（如Google、Apple）與加密貨幣和區塊鏈技術的合作發展，以及這些合作對市場的潛在影響。\n"
          ]
        }
      ],
      "source": [
        "# print result\n",
        "content = response.json()['choices'][0]['message']['content']\n",
        "print(content)"
      ]
    }
  ],
  "metadata": {
    "colab": {
      "provenance": []
    },
    "kernelspec": {
      "display_name": "Python 3",
      "name": "python3"
    },
    "language_info": {
      "name": "python"
    }
  },
  "nbformat": 4,
  "nbformat_minor": 0
}
